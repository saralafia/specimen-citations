{
 "cells": [
  {
   "cell_type": "markdown",
   "id": "0b7de746",
   "metadata": {},
   "source": [
    "# Truth deck\n",
    "Compare truth deck sentences (n=374) to:\n",
    "1. RegEx\n",
    "2. NER\n",
    "3. GPT\n",
    "\n",
    "Sentences manually updated 5/6/23.\n",
    "\n",
    "Similarity measure:\n",
    "- Jaro-Winkler score (characters in common - better for shorter strings; output is ratio)\n",
    "\n",
    "Decide whether to split the predictions by delimiter or calculate full span overlap"
   ]
  },
  {
   "cell_type": "code",
   "execution_count": 1,
   "id": "ba91840e",
   "metadata": {},
   "outputs": [],
   "source": [
    "import pandas as pd\n",
    "import numpy as np\n",
    "from pyjarowinkler.distance import get_jaro_distance # to calculate a similarity score for a pair of strings"
   ]
  },
  {
   "cell_type": "markdown",
   "id": "be09ecb7",
   "metadata": {},
   "source": [
    "## Truth deck sentences"
   ]
  },
  {
   "cell_type": "code",
   "execution_count": 2,
   "id": "91db1ea7",
   "metadata": {},
   "outputs": [
    {
     "name": "stdout",
     "output_type": "stream",
     "text": [
      "<class 'pandas.core.frame.DataFrame'>\n",
      "RangeIndex: 375 entries, 0 to 374\n",
      "Data columns (total 12 columns):\n",
      " #   Column            Non-Null Count  Dtype  \n",
      "---  ------            --------------  -----  \n",
      " 0   index             375 non-null    int64  \n",
      " 1   text              375 non-null    object \n",
      " 2   meta              375 non-null    object \n",
      " 3   spans             375 non-null    object \n",
      " 4   tokens            375 non-null    object \n",
      " 5   manual_codes      375 non-null    object \n",
      " 6   regex_prediction  375 non-null    object \n",
      " 7   regex_simscore    375 non-null    float64\n",
      " 8   ner_prediction    375 non-null    object \n",
      " 9   ner_simscore      375 non-null    float64\n",
      " 10  gpt_prediction    375 non-null    object \n",
      " 11  gpt_simscore      375 non-null    float64\n",
      "dtypes: float64(3), int64(1), object(8)\n",
      "memory usage: 35.3+ KB\n"
     ]
    }
   ],
   "source": [
    "# df = pd.read_json('/nfs/turbo/isr-slafia/specimen/specimen_truth_deck.jsonl', lines=True).reset_index() # expose index\n",
    "# df[\"manual_codes\"] = \"\"\n",
    "\n",
    "df = pd.read_csv('../data/truth_deck/truthdeck_specimen_results_in.csv')\n",
    "# df[\"manual_codes\"] = \"\"\n",
    "\n",
    "# for index, row in df.iterrows():\n",
    "#     specimens = []\n",
    "#     spans = row[\"spans\"]\n",
    "#     for i in spans:\n",
    "#         ref = i.get(\"text\")\n",
    "#         specimens.append(ref)\n",
    "#     result = (\", \".join(filter(None,specimens))) # may change delimiter based on comparison metric\n",
    "#     df[\"manual_codes\"][index] = result\n",
    "\n",
    "# df['manual_codes'].replace(\"\", \"none\", inplace=True) # replace empty codes with NA or none for similarity measure\n",
    "df.info()"
   ]
  },
  {
   "cell_type": "markdown",
   "id": "b73b18d1",
   "metadata": {},
   "source": [
    "Describe the variety of labels in the truth deck"
   ]
  },
  {
   "cell_type": "code",
   "execution_count": 3,
   "id": "212d53da",
   "metadata": {},
   "outputs": [
    {
     "name": "stdout",
     "output_type": "stream",
     "text": [
      "No specimens:  184\n",
      "Has 1+ specimens:  191\n"
     ]
    }
   ],
   "source": [
    "print(\"No specimens: \",len(df[df.manual_codes=='none']))\n",
    "print(\"Has 1+ specimens: \",len(df[df.manual_codes!='none']))"
   ]
  },
  {
   "cell_type": "code",
   "execution_count": 4,
   "id": "38efd6c1",
   "metadata": {},
   "outputs": [
    {
     "name": "stdout",
     "output_type": "stream",
     "text": [
      "Unique codes:  174\n"
     ]
    }
   ],
   "source": [
    "df_codes = df[df.manual_codes!='none']\n",
    "print(\"Unique codes: \",df_codes.assign(manual_codes=df_codes.manual_codes.str.split(\",\").explode(\"manual_codes\")).manual_codes.nunique())"
   ]
  },
  {
   "cell_type": "markdown",
   "id": "f46855a3-c984-421b-88db-df99fdf97f9c",
   "metadata": {},
   "source": [
    "Calculate similarity scores"
   ]
  },
  {
   "cell_type": "code",
   "execution_count": 5,
   "id": "681207ce-a2f5-4155-9a4f-0fecbe0361a9",
   "metadata": {},
   "outputs": [],
   "source": [
    "df['regex_simscore'] = [get_jaro_distance(x, y) for x, y in zip(df['manual_codes'], df['regex_prediction'])]\n",
    "df['ner_simscore'] = [get_jaro_distance(x, y) for x, y in zip(df['manual_codes'], df['ner_prediction'])]\n",
    "df['gpt_simscore'] = [get_jaro_distance(x, y) for x, y in zip(df['manual_codes'], df['gpt_prediction'])]"
   ]
  },
  {
   "cell_type": "markdown",
   "id": "230d2d27",
   "metadata": {},
   "source": [
    "## RegEx sentences"
   ]
  },
  {
   "cell_type": "code",
   "execution_count": 6,
   "id": "edadc8df",
   "metadata": {},
   "outputs": [],
   "source": [
    "# reg_res = pd.read_csv('/nfs/turbo/isr-slafia/specimen/truthdeck_specimen_results_pattern.csv')\n",
    "# reg_res['specimen_prediction'].replace(np.nan, \"none\", inplace=True) # replace empty codes with none for string similarity measure\n",
    "# reg_res = reg_res.drop(columns=['manual_codes'])\n",
    "# df_res = pd.merge(df, reg_res, on=['index'])\n",
    "# df_res['sim_score'] = [get_jaro_distance(x, y) for x, y in zip(df_res['manual_codes'], df_res['specimen_prediction'])]\n",
    "# df_res = df_res.rename(columns={'text_x':'text','specimen_prediction':'regex_prediction','sim_score':'regex_simscore'})\n",
    "# df_res.to_csv('/nfs/turbo/isr-slafia/specimen/truthdeck_specimen_results_pattern_v2.csv',index=False)\n",
    "# df_res = df_res[['index','regex_prediction','regex_simscore']]\n",
    "# df_res"
   ]
  },
  {
   "cell_type": "code",
   "execution_count": 7,
   "id": "06274643",
   "metadata": {},
   "outputs": [
    {
     "data": {
      "text/plain": [
       "count    375.000000\n",
       "mean       0.920240\n",
       "std        0.221258\n",
       "min        0.000000\n",
       "25%        1.000000\n",
       "50%        1.000000\n",
       "75%        1.000000\n",
       "max        1.000000\n",
       "Name: regex_simscore, dtype: float64"
      ]
     },
     "execution_count": 7,
     "metadata": {},
     "output_type": "execute_result"
    }
   ],
   "source": [
    "# df_res.regex_simscore.describe()\n",
    "df.regex_simscore.describe()"
   ]
  },
  {
   "cell_type": "code",
   "execution_count": 16,
   "id": "356c81f0-b006-458e-b2c4-bfe43bc082c9",
   "metadata": {},
   "outputs": [
    {
     "data": {
      "text/plain": [
       "1.0"
      ]
     },
     "execution_count": 16,
     "metadata": {},
     "output_type": "execute_result"
    }
   ],
   "source": [
    "df.regex_simscore.median()"
   ]
  },
  {
   "cell_type": "code",
   "execution_count": 8,
   "id": "20a69c34",
   "metadata": {},
   "outputs": [
    {
     "data": {
      "image/png": "[encoded data removed]",
      "text/plain": [
       "<Figure size 432x288 with 1 Axes>"
      ]
     },
     "metadata": {
      "needs_background": "light"
     },
     "output_type": "display_data"
    }
   ],
   "source": [
    "df.regex_simscore.hist(bins=5);\n",
    "# df_res.regex_simscore.hist(bins=5);"
   ]
  },
  {
   "cell_type": "markdown",
   "id": "882664bd",
   "metadata": {},
   "source": [
    "## NER sentences"
   ]
  },
  {
   "cell_type": "code",
   "execution_count": 9,
   "id": "e2500716",
   "metadata": {},
   "outputs": [],
   "source": [
    "# ner_res = pd.read_csv('/nfs/turbo/isr-slafia/specimen/truthdeck_specimen_results_combined_ner.csv') # updated with new file from Kat\n",
    "# ner_res['specimen_prediction'].replace(np.nan, \"none\", inplace=True) # replace empty codes with none for string similarity measure\n",
    "# ner_res = ner_res[['index','specimen_prediction']]\n",
    "# df_ner = pd.merge(df, ner_res, on=['index'])\n",
    "# df_ner['sim_score'] = [get_jaro_distance(x, y) for x, y in zip(df_ner['manual_codes'], df_ner['specimen_prediction'])]\n",
    "# df_ner = df_ner.rename(columns={'text_x':'text','specimen_prediction':'ner_prediction','sim_score':'ner_simscore'})\n",
    "# df_ner.to_csv('/nfs/turbo/isr-slafia/specimen/truthdeck_specimen_results_ner_v2.csv',index=False)\n",
    "# df_ner = df_ner[['index','ner_prediction','ner_simscore']]\n",
    "# df_ner"
   ]
  },
  {
   "cell_type": "code",
   "execution_count": 10,
   "id": "4915f736",
   "metadata": {},
   "outputs": [
    {
     "data": {
      "text/plain": [
       "count    375.000000\n",
       "mean       0.854000\n",
       "std        0.323709\n",
       "min        0.000000\n",
       "25%        0.940000\n",
       "50%        1.000000\n",
       "75%        1.000000\n",
       "max        1.000000\n",
       "Name: ner_simscore, dtype: float64"
      ]
     },
     "execution_count": 10,
     "metadata": {},
     "output_type": "execute_result"
    }
   ],
   "source": [
    "df.ner_simscore.describe()"
   ]
  },
  {
   "cell_type": "code",
   "execution_count": 20,
   "id": "31ca02b8-6b6b-4357-bec6-db30c231b269",
   "metadata": {},
   "outputs": [
    {
     "data": {
      "text/plain": [
       "1.0"
      ]
     },
     "execution_count": 20,
     "metadata": {},
     "output_type": "execute_result"
    }
   ],
   "source": [
    "df.ner_simscore.median()"
   ]
  },
  {
   "cell_type": "code",
   "execution_count": 11,
   "id": "609abaf5",
   "metadata": {},
   "outputs": [
    {
     "data": {
      "image/png": "[encoded data removed]",
      "text/plain": [
       "<Figure size 432x288 with 1 Axes>"
      ]
     },
     "metadata": {
      "needs_background": "light"
     },
     "output_type": "display_data"
    }
   ],
   "source": [
    "df.ner_simscore.hist(bins=5);"
   ]
  },
  {
   "cell_type": "markdown",
   "id": "b482138c",
   "metadata": {},
   "source": [
    "## GPT-3 sentences"
   ]
  },
  {
   "cell_type": "code",
   "execution_count": 12,
   "id": "911083c2",
   "metadata": {},
   "outputs": [],
   "source": [
    "# df_gpt = pd.read_csv('/nfs/turbo/isr-slafia/specimen/truthdeck_specimen_results_gpt.csv')\n",
    "# df_gpt = df_gpt.rename(columns={'gpt_answer':'gpt_prediction','sim_score':'gpt_simscore'})\n",
    "# df_gpt.to_csv('/nfs/turbo/isr-slafia/specimen/truthdeck_specimen_results_gpt_v2.csv',index=False)\n",
    "# df_gpt = df_gpt[['index','gpt_prediction','gpt_simscore']]\n",
    "# df_gpt"
   ]
  },
  {
   "cell_type": "code",
   "execution_count": 13,
   "id": "cd07f60b",
   "metadata": {},
   "outputs": [
    {
     "data": {
      "text/plain": [
       "count    375.000000\n",
       "mean       0.570427\n",
       "std        0.432730\n",
       "min        0.000000\n",
       "25%        0.000000\n",
       "50%        0.670000\n",
       "75%        1.000000\n",
       "max        1.000000\n",
       "Name: gpt_simscore, dtype: float64"
      ]
     },
     "execution_count": 13,
     "metadata": {},
     "output_type": "execute_result"
    }
   ],
   "source": [
    "df.gpt_simscore.describe()"
   ]
  },
  {
   "cell_type": "code",
   "execution_count": 21,
   "id": "4523aef6-8ca8-4090-851d-6b06c692ccb5",
   "metadata": {},
   "outputs": [
    {
     "data": {
      "text/plain": [
       "0.67"
      ]
     },
     "execution_count": 21,
     "metadata": {},
     "output_type": "execute_result"
    }
   ],
   "source": [
    "df.gpt_simscore.median()"
   ]
  },
  {
   "cell_type": "code",
   "execution_count": 14,
   "id": "949dcc1f",
   "metadata": {},
   "outputs": [
    {
     "data": {
      "image/png": "[encoded data removed]",
      "text/plain": [
       "<Figure size 432x288 with 1 Axes>"
      ]
     },
     "metadata": {
      "needs_background": "light"
     },
     "output_type": "display_data"
    }
   ],
   "source": [
    "df.gpt_simscore.hist(bins=5);"
   ]
  },
  {
   "cell_type": "markdown",
   "id": "94af0217-4638-4bd6-911d-fae2757d4814",
   "metadata": {},
   "source": [
    "Output a spreadsheet for comparison"
   ]
  },
  {
   "cell_type": "code",
   "execution_count": 15,
   "id": "fca5e7d1-9851-4bb1-b4d2-d776de646a4a",
   "metadata": {},
   "outputs": [],
   "source": [
    "# df_final = df.merge(df_res,on ='index').merge(df_ner,on ='index').merge(df_gpt,on ='index')\n",
    "# df_final = df_final.drop(columns=['_input_hash','_task_hash','_is_binary','_view_id','answer','_timestamp'])\n",
    "# df_final.to_csv('/nfs/turbo/isr-slafia/specimen/truthdeck_specimen_results_all.csv',index=False)\n",
    "# df_final\n",
    "df.to_csv('../data/truth_deck/truthdeck_specimen_results_out.csv',index=False)"
   ]
  },
  {
   "cell_type": "code",
   "execution_count": null,
   "id": "9537da07-ef64-4f58-b61b-e7441ba79b4f",
   "metadata": {},
   "outputs": [],
   "source": []
  }
 ],
 "metadata": {
  "kernelspec": {
   "display_name": "Python 3",
   "language": "python",
   "name": "python3"
  },
  "language_info": {
   "codemirror_mode": {
    "name": "ipython",
    "version": 3
   },
   "file_extension": ".py",
   "mimetype": "text/x-python",
   "name": "python",
   "nbconvert_exporter": "python",
   "pygments_lexer": "ipython3",
   "version": "3.9.5"
  }
 },
 "nbformat": 4,
 "nbformat_minor": 5
}
