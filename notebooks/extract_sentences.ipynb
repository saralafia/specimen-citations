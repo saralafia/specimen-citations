{
 "cells": [
  {
   "cell_type": "markdown",
   "id": "a6f31db1",
   "metadata": {},
   "source": [
    "# Extract sentences\n",
    "We need a verified set of labels and sentences to check model performance against.\n",
    "- Option 1: Start from the papers that Katherine and Faye reviewed (this is less optimal because we only have codes for 17 UMMZ papers that were manually reviewed. After searching all combined, this only leaves 5 unique codes.)\n",
    "- Option 2: Search for all formal collections prefixes and find total number of times each is mentioned in combined bibliography. Manually verify a subset of these sentences for UMMZ and USNM model comparison.\n",
    "\n",
    "Acronyms:\n",
    "- [Smithsonian](https://www.gbif.org/grscicoll/institution/586ee56e-b0fe-4dff-b7f9-aeb104f3308a) is `USNM` or `NMNH`\n",
    "- [Michigan](https://www.gbif.org/grscicoll/institution/2a508411-2acd-45df-8a8b-00094ac65f87) is `UMMZ`"
   ]
  },
  {
   "cell_type": "code",
   "execution_count": 1,
   "id": "02d5377d",
   "metadata": {},
   "outputs": [],
   "source": [
    "import pandas as pd\n",
    "import numpy as np\n",
    "import matplotlib as plt\n",
    "import os\n",
    "import glob\n",
    "import json\n",
    "import re\n",
    "import random\n",
    "from tqdm import tqdm\n",
    "import pysbd\n",
    "seg = pysbd.Segmenter(language=\"en\", clean=False) # sentence segmenter"
   ]
  },
  {
   "cell_type": "code",
   "execution_count": 2,
   "id": "dd3b6d1e",
   "metadata": {},
   "outputs": [],
   "source": [
    "def clean_text(txt):\n",
    "    \"\"\"\n",
    "    Removes special characters, punctuation, and returns lowercase\n",
    "    \"\"\"\n",
    "    return re.sub('[^A-Za-z0-9]+', ' ', str(txt).lower())\n",
    "\n",
    "def clean_text2(txt):\n",
    "    \"\"\"\n",
    "    Removes special characters and punctuation\n",
    "    \"\"\"\n",
    "    return re.sub('[^A-Za-z0-9]+', ' ', str(txt))\n",
    "\n",
    "def alphanum(txt):\n",
    "    \"\"\"\n",
    "    Extracts alphanumeric characters without spaces\n",
    "    \"\"\"\n",
    "    return \"\".join(x.lower() for x in txt if x.isalnum())\n",
    "\n",
    "def extract_pat(search_str:str, search_list:str):\n",
    "    \"\"\"\n",
    "    Defines pattern to search for\n",
    "    \"\"\"\n",
    "    search_obj = re.search(search_list, search_str)\n",
    "    if search_obj:\n",
    "        return_str = search_str[search_obj.start(): search_obj.end()]\n",
    "    else:\n",
    "        return_str = \"None\"\n",
    "    return return_str\n",
    "\n",
    "def json2txt_df(json_file_path):\n",
    "    \"\"\"\n",
    "    Extract body text of json file\n",
    "    \"\"\"\n",
    "    with open(json_file_path, 'r') as f:\n",
    "        data = json.loads(f.read())\n",
    "        body_text_df = pd.json_normalize(data[\"pdf_parse\"][\"body_text\"])\n",
    "    \n",
    "    return body_text_df\n",
    "\n",
    "def df2sentences(df):\n",
    "    \"\"\"\n",
    "    Tokenize and clean sentences\n",
    "    \"\"\"\n",
    "    sentences_text = \" \".join(list(df.text)) \n",
    "    pattern_brackets = re.compile(r'\\(.*?\\)')\n",
    "    sentences_text = re.sub(pattern_brackets, \"\", sentences_text) \n",
    "    sentences = seg.segment(sentences_text) \n",
    "    sentences = [re.sub(r\"^\\W+\", \"\", sentence) for sentence in sentences] \n",
    "    sentences = [re.sub(r\"\\s+\", \" \", sentence) for sentence in sentences]\n",
    "    return sentences\n",
    "\n",
    "def prep_data(json_file_path, ref_id):\n",
    "    \"\"\"\n",
    "    Return sentence lists for matches\n",
    "    \"\"\"\n",
    "    body_text_df = json2txt_df(json_file_path)\n",
    "    sentences = df2sentences(body_text_df)\n",
    "    candidates = []\n",
    "    for sentence in sentences:\n",
    "        doc = nlp(sentence)\n",
    "        matches = matcher(doc)\n",
    "        if len(matches) > 0:\n",
    "            sentence_dict = {\"text\":sentence,\n",
    "                             \"meta\":{\"ref_id\":str(ref_id)}}\n",
    "            candidates.append(sentence_dict)    \n",
    "    return candidates"
   ]
  },
  {
   "cell_type": "markdown",
   "id": "7274840d",
   "metadata": {},
   "source": [
    "Option 1: Extract column headers from UMMZ codebook (Faye, Katherine versions) as search codes"
   ]
  },
  {
   "cell_type": "code",
   "execution_count": 3,
   "id": "82ea1fbe",
   "metadata": {},
   "outputs": [],
   "source": [
    "# df_ummz_1 = pd.read_csv('../labels/manual/Faye_UMMZ.csv',encoding='utf-8')\n",
    "# names_1 = df_ummz_1.Name.to_list()\n",
    "# codes_ummz_1 = [i.replace(\"(\", \"\").replace(\")\", \"\").strip() for i in names_1]\n",
    "# print(\"UMMZ codes by Faye:\",len(codes_ummz_1))\n",
    "\n",
    "# df_ummz_2 = pd.read_csv('../labels/manual/Katherine_UMMZ.csv',encoding='utf-8')\n",
    "# names_2 = df_ummz_2.Name.to_list()\n",
    "# codes_ummz_2 = [i.replace(\"(\", \"\").replace(\")\", \"\").strip() for i in names_2]\n",
    "# print(\"UMMZ codes by Katherine:\",len(codes_ummz_2))\n",
    "\n",
    "# combined_codes = codes_ummz_1+codes_ummz_2\n",
    "\n",
    "# print(\"All codes:\",len(combined_codes))\n",
    "# codes_pattern = '|'.join(combined_codes)\n",
    "# codes_pattern"
   ]
  },
  {
   "cell_type": "markdown",
   "id": "fea1fd2b",
   "metadata": {},
   "source": [
    "Option 2: Define search pattern using list of acronyms from Cody"
   ]
  },
  {
   "cell_type": "code",
   "execution_count": 14,
   "id": "267c816e",
   "metadata": {},
   "outputs": [
    {
     "name": "stdout",
     "output_type": "stream",
     "text": [
      "Search codes: 395\n"
     ]
    },
    {
     "data": {
      "text/plain": [
       "'MACN-Ma|MMHNSR|CNP|IADIZA-CM|MA|MJCM|MLP|MMPMa|MFA-ZV-M|RVP|CUNRC|CML|CRUBM|CBF|MHNNKM|CCBG|MBML|MCN|MHNCI|MZUSP|MN|BPM NHSC|use no acronym|UAMZ|UBC|KM|RBCM|MMMN |RMNP|UMAN|NBM|AUW|NSM|APM|CMN|CUMZ|MNR|RPPMC|ROM|UGDZ|RM|CVUL|RSM|USRC|SSUC|MHNC|MHNV|MNHN|IEEUACH|LCM|MZUC-UCCC|CZIP|ICN|IND-M|UV|MNCR|MZUCR|EPN|MUGM|MECN|QCAZ|MGMC|MHNES|CM-UMSNH|CIB|OAXM|IIBUV|ECO-SC-M|ENCB|MZ-ICACH|CRD|UAY|UAMI|CM-UMSNH|UABSC|FCMM|CNMA|CZRMA|UG|ECOCHM|EB--BUAP|UANL|CPM|INC|CM-MVUP|MNHNP|MUSA|MUSM|NZCS|UWI|MNHN|AUM|USANHC|AFGMC|GBNM|PM|UAM|ASUMC|UA|GRCA Museum Collection|MNA|NAUVM|PFSS|SWRS|WACA|ASUMZ|HSUMZ|UALRVC|UAMZC|CAS|CPSU|CSPUP|CSUC|CSUF|CSULB|CSUN|CSCS|DEVA|DVCM|HSU|LAVO|MPC|MSE|MWFB|LACM|MLZ|PGMNH|PUCNMH|PORE|SBCM\\xa0|SDNHM|SDSU|MBM|SBMNH|SJER|MVZ|HNHR|UCLA|YNP|ASCC|COLM|DMNS|DINO|FLC|GSDNM|RMNL|ROMO|UCM|UNC-B|CSUTC|UCONN|YPM|DMNH|UDEL|USNM|ENP|FSUM|FLMNH|GMNH|SSM|BPBM|ACMNH|IDFG|BMR|CHAS|EIU|FMNH|UIMNH|ISM|ISU|RCMC|SIUCM|SIUE|CERL/BIC|WSU|BSUMC|JMM|ISUVC|USI|BVC|CUI|HMNH|ISNHC|PM|SM|ISNHC|IOWA|NWC|UNI|SMNH|MHP|FRM|PECA|KSU|PSUMC|SCNHM|KU|WSBC|EKU|MSUMC|UKEN|WKSU|CCVC|LTU|LSUS|LSUMZ|NLU|NSUL|SLU|TU|UMF|UMO|FSUMC|PWRC|PMNH|BUTC|MCZ|MDFW|NUVC|PEM|SSM|UMA|WSC|EMU|CIS|HCMZ|MSU|MCNH|GRPM|UMMZ|LSSC|WSUMNH|BSCVC|SJUBC|SMM|UMD|MMNH|MMNS|MSUZ|CMSU|NWMSU|NEMSU|MUMZ|GML|GLAC|MTFWP|UMZM|CSCCV|HCCV|HM|VMKSC|UNO|UNSM|NSMC|LVMC|UNEVR|UNH|TNSC|CACA|ENMUNHM|NMDOH|NMMNH|NMSUVWM|NMSU|SETON|MSB|WNMU|WSNM|AMNH|BCM|BSNS|CUMV|MP|NYSM|RWC|SUNYO|NCSM|NCSM|UNCW|WFVC|SHSND|NDSUVC|NPWRC|UND|DSNH|CMC M-(Mammalogy)|CMNH|MU|HCNHSC|OSUMZ|OUVC|CUMZ|ECENT|NSU|WNHM|OSU|UCOCV|OMNH|CRLA|EOUVM|PSU|OSUFW|SOUMVNH|UOMNCH|WUME|ANSP|CM|WFIS |PSU-SFR|RPM|SUVM|SMP|PRICO|CPRC-LPMG|RWPM|URIMC|CHM|CUSC|HBC|NRWC|SHM|SDAKS|USD |USDAK|WICA|GRSM|TWRA|UM|UTMZ|ACUNHC|ASNHC|ACTC|WWF|TTU|DMNH|DMSP Interpretive Center|SM|HSUCV|MWSU|UT-PA-MC|PPHM|SHSU|SRSU|TSC|TAIU|TCWC|TWC|TMM|UMHB|UTA|UTLPA|UTEP|WU|WTSU|WMM|FWMSH|BCNP|CBNM|DNHM|DIX|TICA|UMNH|WSUBMC|ZNP|BYU|UFHNH|VFWD|FMPC|VSC-L|MMS|ZTNH|VCU|VMNH|VPIMM|NMML|OLYM|PSM|UWBM|WGD|CRCM|WCW|MUMC|UWSP|JSHC|UWZM|UWMA|UWMIL|CCW|GTNP|TSSMC|WWM|MHNLS|EBRG|MBUCV|CVULA'"
      ]
     },
     "execution_count": 14,
     "metadata": {},
     "output_type": "execute_result"
    }
   ],
   "source": [
    "df_collections = pd.read_csv('../formal-collection-acronym.csv', skiprows=1)\n",
    "df_collections = df_collections.dropna(subset=['Formal collection acronym '])\n",
    "# df_collections = df_collections[df_collections['Formal collection acronym '].notnull()]\n",
    "df_collections = df_collections[df_collections['Formal collection acronym '] != ' ']\n",
    "df_collections['Formal collection acronym '] = df_collections['Formal collection acronym '].str.replace('*', '', regex=True)\n",
    "acronyms = df_collections['Formal collection acronym '].to_list()\n",
    "acronyms_clean = list(filter(None, acronyms))\n",
    "acronyms_filter = [str(i).upper() for i in acronyms]\n",
    "print(\"Search codes:\",len(acronyms_clean))\n",
    "acronyms_pattern = '|'.join(acronyms_clean)\n",
    "acronyms_pattern"
   ]
  },
  {
   "cell_type": "markdown",
   "id": "ba982d49",
   "metadata": {},
   "source": [
    "Read in and tokenize sentences from all papers in the combined bibliography"
   ]
  },
  {
   "cell_type": "code",
   "execution_count": 5,
   "id": "386e37ff",
   "metadata": {},
   "outputs": [
    {
     "name": "stdout",
     "output_type": "stream",
     "text": [
      "CPU times: user 5min 13s, sys: 750 ms, total: 5min 14s\n",
      "Wall time: 5min 48s\n"
     ]
    }
   ],
   "source": [
    "%%time\n",
    "\n",
    "all_papers = glob.glob('/nfs/turbo/isr-slafia/specimen/build_bibliography_json/*.json')\n",
    "\n",
    "testing=0\n",
    "\n",
    "if testing==1:\n",
    "    all_papers = all_papers[:10] # sample for testing\n",
    "\n",
    "df_pubs = pd.DataFrame()\n",
    "for pub_file in all_papers: \n",
    "    with open(pub_file, 'r') as f:\n",
    "        file_name = os.path.basename(pub_file)\n",
    "        file_id = os.path.splitext(file_name)[0]\n",
    "        data = json.loads(f.read())\n",
    "        file_data = pd.json_normalize(data[\"pdf_parse\"][\"body_text\"])\n",
    "        file_data[\"title\"] = data[\"title\"]\n",
    "        file_data[\"uuid\"] = data[\"paper_id\"]\n",
    "    df_pubs = pd.concat([df_pubs, file_data])\n",
    "\n",
    "extract_sentences = []\n",
    "\n",
    "for row in df_pubs.itertuples():\n",
    "    for sent in seg.segment(row[1]):\n",
    "        extract_sentences.append((row[8], row[7], row[5], sent))\n",
    "        \n",
    "df_sentences = pd.DataFrame(extract_sentences, columns=['uuid', 'title', 'section', 'sent'])\n",
    "df_sentences['sent'] = df_sentences['sent'].astype(str)\n",
    "df_sentences.to_csv('/nfs/turbo/isr-slafia/specimen/all_sents.csv',index=False) # this is the TOKENIZED CORPUS"
   ]
  },
  {
   "cell_type": "markdown",
   "id": "49e64f4d",
   "metadata": {},
   "source": [
    "Search for approved acronyms in all papers\n",
    "- All\n",
    "- `UMMZ`\n",
    "- `UMNH` or `NMNH`"
   ]
  },
  {
   "cell_type": "code",
   "execution_count": 12,
   "id": "e2508def",
   "metadata": {},
   "outputs": [
    {
     "name": "stdout",
     "output_type": "stream",
     "text": [
      "Papers with any approved acronym:  962\n",
      "All unique acronyms in papers:  138\n"
     ]
    },
    {
     "data": {
      "text/plain": [
       "<AxesSubplot:>"
      ]
     },
     "execution_count": 12,
     "metadata": {},
     "output_type": "execute_result"
    },
    {
     "data": {
      "image/png": "[encoded data removed]",
      "text/plain": [
       "<Figure size 720x360 with 1 Axes>"
      ]
     },
     "metadata": {
      "needs_background": "light"
     },
     "output_type": "display_data"
    }
   ],
   "source": [
    "df_sentences = pd.read_csv('/nfs/turbo/isr-slafia/specimen/all_sents.csv') # this is the TOKENIZED CORPUS\n",
    "df_sentences['acronym'] = df_sentences['sent'].apply(lambda x: extract_pat(search_str=x, search_list=acronyms_pattern))\n",
    "df_sentences['has_acronym'] = (df_sentences['acronym'] != \"None\")\n",
    "df_sentences = df_sentences[(df_sentences.has_acronym==True)]\n",
    "print(\"Papers with any approved acronym: \", df_sentences.uuid.nunique())\n",
    "print(\"All unique acronyms in papers: \", df_sentences.acronym.nunique())\n",
    "df_sentences.acronym.value_counts().nlargest(20).plot.barh(figsize=(10,5)); # see 20 most mentioned acronyms"
   ]
  },
  {
   "cell_type": "code",
   "execution_count": 17,
   "id": "38f51000",
   "metadata": {},
   "outputs": [
    {
     "name": "stdout",
     "output_type": "stream",
     "text": [
      "Papers with UMMZ:  129\n",
      "Times UMMZ appears in all papers:  328\n",
      "Papers with USNM or NMNH:  125\n",
      "Times USNM or NMNH appears in all papers:  729\n",
      "<class 'pandas.core.frame.DataFrame'>\n",
      "Int64Index: 1057 entries, 664 to 306371\n",
      "Data columns (total 6 columns):\n",
      " #   Column       Non-Null Count  Dtype \n",
      "---  ------       --------------  ----- \n",
      " 0   uuid         1057 non-null   object\n",
      " 1   title        997 non-null    object\n",
      " 2   section      1023 non-null   object\n",
      " 3   sent         1057 non-null   object\n",
      " 4   acronym      1057 non-null   object\n",
      " 5   has_acronym  1057 non-null   bool  \n",
      "dtypes: bool(1), object(5)\n",
      "memory usage: 50.6+ KB\n"
     ]
    }
   ],
   "source": [
    "df_ummz = df_sentences[df_sentences.acronym==\"UMMZ\"]\n",
    "print(\"Papers with UMMZ: \", df_ummz.uuid.nunique())\n",
    "print(\"Times UMMZ appears in all papers: \", len(df_ummz))\n",
    "\n",
    "df_usnm = df_sentences[(df_sentences.acronym==\"USNM\")|(df_sentences.acronym==\"NMNH\")]\n",
    "print(\"Papers with USNM or NMNH: \", df_usnm.uuid.nunique())\n",
    "print(\"Times USNM or NMNH appears in all papers: \", len(df_usnm))\n",
    "\n",
    "df_match = pd.concat([df_ummz,df_usnm]) # combine sentences only for review and validation\n",
    "df_match.to_csv('/nfs/turbo/isr-slafia/specimen/sentences_ummz_usnm_nmnh.csv',index=False)\n",
    "df_match.info()"
   ]
  },
  {
   "cell_type": "markdown",
   "id": "8522e723",
   "metadata": {},
   "source": [
    "Make a spreadsheet from the combined bibliography that indicates whether a paper has an acronym. Merge on uuid to get metadata records for those papers. Export to CSV to manually verify a subset in Prodigy. \n",
    "- Manually verified records will be the truth deck\n",
    "- Format output to load into Prodigy ('Text', 'Label' (empty), 'Meta')"
   ]
  },
  {
   "cell_type": "code",
   "execution_count": 7,
   "id": "975fdac0",
   "metadata": {},
   "outputs": [
    {
     "data": {
      "text/html": [
       "<div>\n",
       "<style scoped>\n",
       "    .dataframe tbody tr th:only-of-type {\n",
       "        vertical-align: middle;\n",
       "    }\n",
       "\n",
       "    .dataframe tbody tr th {\n",
       "        vertical-align: top;\n",
       "    }\n",
       "\n",
       "    .dataframe thead th {\n",
       "        text-align: right;\n",
       "    }\n",
       "</style>\n",
       "<table border=\"1\" class=\"dataframe\">\n",
       "  <thead>\n",
       "    <tr style=\"text-align: right;\">\n",
       "      <th></th>\n",
       "      <th>Text</th>\n",
       "      <th>Meta</th>\n",
       "    </tr>\n",
       "  </thead>\n",
       "  <tbody>\n",
       "    <tr>\n",
       "      <th>0</th>\n",
       "      <td>Sixteen skeletons representing five species (S...</td>\n",
       "      <td>{'95dd24bd-27c4-bf8d-5994-90667d416588': 'UMMZ'}</td>\n",
       "    </tr>\n",
       "    <tr>\n",
       "      <th>1</th>\n",
       "      <td>A collection of G. affinis in 1936 from an irr...</td>\n",
       "      <td>{'685e406b-8171-31eb-9766-c1439c9afcff': 'UMMZ'}</td>\n",
       "    </tr>\n",
       "    <tr>\n",
       "      <th>2</th>\n",
       "      <td>Type-material is deposited in the following in...</td>\n",
       "      <td>{'35783f66-2114-c2d6-50ea-1324862f78e1': 'UMMZ'}</td>\n",
       "    </tr>\n",
       "    <tr>\n",
       "      <th>3</th>\n",
       "      <td>Holotype and most paratypes-ZISP, 2 female par...</td>\n",
       "      <td>{'35783f66-2114-c2d6-50ea-1324862f78e1': 'UMMZ'}</td>\n",
       "    </tr>\n",
       "    <tr>\n",
       "      <th>4</th>\n",
       "      <td>Holotype and most paratypes-ZISP, 2 male and 2...</td>\n",
       "      <td>{'35783f66-2114-c2d6-50ea-1324862f78e1': 'UMMZ'}</td>\n",
       "    </tr>\n",
       "    <tr>\n",
       "      <th>...</th>\n",
       "      <td>...</td>\n",
       "      <td>...</td>\n",
       "    </tr>\n",
       "    <tr>\n",
       "      <th>323</th>\n",
       "      <td>Voucher specimens of the mite species bearing ...</td>\n",
       "      <td>{'d3b564b0-8be0-4c3e-5c94-938160c6b3ed': 'UMMZ'}</td>\n",
       "    </tr>\n",
       "    <tr>\n",
       "      <th>324</th>\n",
       "      <td>Additional radiographs of juvenile (305 mm tot...</td>\n",
       "      <td>{'d3447490-96fd-35d0-adf2-0806e5214606': 'UMMZ'}</td>\n",
       "    </tr>\n",
       "    <tr>\n",
       "      <th>325</th>\n",
       "      <td>Two other paratypes have been deposited in the...</td>\n",
       "      <td>{'4c1f59df-f6b4-160b-d466-c7725df5672b': 'UMMZ'}</td>\n",
       "    </tr>\n",
       "    <tr>\n",
       "      <th>326</th>\n",
       "      <td>T (UMMZ 43037) and paratypes (UMMZ 42991-43036...</td>\n",
       "      <td>{'992e7dea-0374-3263-4a06-09aa827acd0d': 'UMMZ'}</td>\n",
       "    </tr>\n",
       "    <tr>\n",
       "      <th>327</th>\n",
       "      <td>''LEQ1S'' UMMZ 242144 AY541664 AY541639 Unavai...</td>\n",
       "      <td>{'ade9b2b4-efdd-35f8-0fa3-4266ccfdba9b': 'UMMZ'}</td>\n",
       "    </tr>\n",
       "  </tbody>\n",
       "</table>\n",
       "<p>328 rows × 2 columns</p>\n",
       "</div>"
      ],
      "text/plain": [
       "                                                  Text  \\\n",
       "0    Sixteen skeletons representing five species (S...   \n",
       "1    A collection of G. affinis in 1936 from an irr...   \n",
       "2    Type-material is deposited in the following in...   \n",
       "3    Holotype and most paratypes-ZISP, 2 female par...   \n",
       "4    Holotype and most paratypes-ZISP, 2 male and 2...   \n",
       "..                                                 ...   \n",
       "323  Voucher specimens of the mite species bearing ...   \n",
       "324  Additional radiographs of juvenile (305 mm tot...   \n",
       "325  Two other paratypes have been deposited in the...   \n",
       "326  T (UMMZ 43037) and paratypes (UMMZ 42991-43036...   \n",
       "327  ''LEQ1S'' UMMZ 242144 AY541664 AY541639 Unavai...   \n",
       "\n",
       "                                                 Meta  \n",
       "0    {'95dd24bd-27c4-bf8d-5994-90667d416588': 'UMMZ'}  \n",
       "1    {'685e406b-8171-31eb-9766-c1439c9afcff': 'UMMZ'}  \n",
       "2    {'35783f66-2114-c2d6-50ea-1324862f78e1': 'UMMZ'}  \n",
       "3    {'35783f66-2114-c2d6-50ea-1324862f78e1': 'UMMZ'}  \n",
       "4    {'35783f66-2114-c2d6-50ea-1324862f78e1': 'UMMZ'}  \n",
       "..                                                ...  \n",
       "323  {'d3b564b0-8be0-4c3e-5c94-938160c6b3ed': 'UMMZ'}  \n",
       "324  {'d3447490-96fd-35d0-adf2-0806e5214606': 'UMMZ'}  \n",
       "325  {'4c1f59df-f6b4-160b-d466-c7725df5672b': 'UMMZ'}  \n",
       "326  {'992e7dea-0374-3263-4a06-09aa827acd0d': 'UMMZ'}  \n",
       "327  {'ade9b2b4-efdd-35f8-0fa3-4266ccfdba9b': 'UMMZ'}  \n",
       "\n",
       "[328 rows x 2 columns]"
      ]
     },
     "execution_count": 7,
     "metadata": {},
     "output_type": "execute_result"
    }
   ],
   "source": [
    "df_bib = pd.read_csv('/nfs/turbo/isr-slafia/specimen/build_bibliography_final.csv')\n",
    "df_truth = pd.merge(df_bib, df_match, how='inner', on='uuid')\n",
    "df_truth = df_truth.rename(columns={'sent':'Text'})\n",
    "df_truth['Meta'] = df_truth.apply(lambda x: {x.uuid: x.acronym}, axis=1)\n",
    "# df_truth = df_truth[['uuid','bib','title','section','sent','acronym']]\n",
    "df_truth = df_truth[['Text','Meta']] # we will add Label in Prodigy\n",
    "# df_truth.to_csv('/nfs/turbo/isr-slafia/specimen/ummz_umnh_sents.csv',index=False) # after verification, this is the TRUTH DECK\n",
    "df_truth"
   ]
  },
  {
   "cell_type": "code",
   "execution_count": null,
   "id": "0867bede",
   "metadata": {},
   "outputs": [],
   "source": []
  }
 ],
 "metadata": {
  "kernelspec": {
   "display_name": "Python 3 (ipykernel)",
   "language": "python",
   "name": "python3"
  },
  "language_info": {
   "codemirror_mode": {
    "name": "ipython",
    "version": 3
   },
   "file_extension": ".py",
   "mimetype": "text/x-python",
   "name": "python",
   "nbconvert_exporter": "python",
   "pygments_lexer": "ipython3",
   "version": "3.9.7"
  }
 },
 "nbformat": 4,
 "nbformat_minor": 5
}
