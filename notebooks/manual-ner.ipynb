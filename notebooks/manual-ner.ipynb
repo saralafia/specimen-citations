{
 "cells": [
  {
   "cell_type": "markdown",
   "metadata": {},
   "source": [
    "# Manual NER \n",
    "Pipeline to detect specimen codes in article text\n",
    "- Sources: UMMZ papers\n",
    "- Labels: manually generated with NVIVO\n",
    "\n",
    "Steps:\n",
    "1. **Make training data**: tokenize sentences from papers; if label in sentence, export.\n",
    "2. **Train NER model**: split exported labels into train/dev; train transformer-based NER model.\n",
    "3. **Apply NER model**: parse all papers in bibliography; extract specimen entities from sentences."
   ]
  },
  {
   "cell_type": "markdown",
   "metadata": {},
   "source": [
    "## 1. Make training data\n",
    "Prepare training data from codes and papers. Does not require accelerator (GPU)."
   ]
  },
  {
   "cell_type": "code",
   "execution_count": 1,
   "metadata": {
    "_cell_guid": "b1076dfc-b9ad-4769-8c92-a6c4dae69d19",
    "_uuid": "8f2839f25d086af736a60e9eeb907d3b93b6e0e5"
   },
   "outputs": [],
   "source": [
    "import pandas as pd\n",
    "import numpy as np\n",
    "import matplotlib as plt\n",
    "import glob\n",
    "import json\n",
    "import re\n",
    "import random\n",
    "from tqdm import tqdm\n",
    "import pysbd\n",
    "seg = pysbd.Segmenter(language=\"en\", clean=False) # sentence segmenter\n",
    "from sklearn.utils import resample\n",
    "from sklearn.model_selection import train_test_split\n",
    "import spacy\n",
    "from spacy.tokens import DocBin\n",
    "from spacy import displacy"
   ]
  },
  {
   "cell_type": "code",
   "execution_count": 26,
   "metadata": {},
   "outputs": [],
   "source": [
    "def clean_text(txt):\n",
    "    \"\"\"\n",
    "    Removes special characters, punctuation, and returns lowercase\n",
    "    \"\"\"\n",
    "    return re.sub('[^A-Za-z0-9]+', ' ', str(txt).lower())\n",
    "\n",
    "def clean_text2(txt):\n",
    "    \"\"\"\n",
    "    Removes special characters and punctuation\n",
    "    \"\"\"\n",
    "    return re.sub('[^A-Za-z0-9]+', ' ', str(txt))\n",
    "\n",
    "def alphanum(txt):\n",
    "    \"\"\"\n",
    "    Extracts alphanumeric characters without spaces\n",
    "    \"\"\"\n",
    "    return \"\".join(x.lower() for x in txt if x.isalnum())\n",
    "\n",
    "def extract_pat(search_str:str, search_list:str):\n",
    "    \"\"\"\n",
    "    Defines pattern to search for\n",
    "    \"\"\"\n",
    "    search_obj = re.search(search_list, search_str)\n",
    "    if search_obj:\n",
    "        return_str = search_str[search_obj.start(): search_obj.end()]\n",
    "    else:\n",
    "        return_str = \"None\"\n",
    "    return return_str\n",
    "\n",
    "def json2txt_df(json_file_path):\n",
    "    \"\"\"\n",
    "    Extract body text of json file\n",
    "    \"\"\"\n",
    "    with open(json_file_path, 'r') as f:\n",
    "        data = json.loads(f.read())\n",
    "        body_text_df = pd.json_normalize(data[\"pdf_parse\"][\"body_text\"])\n",
    "    \n",
    "    return body_text_df\n",
    "\n",
    "def df2sentences(df):\n",
    "    \"\"\"\n",
    "    Tokenize and clean sentences\n",
    "    \"\"\"\n",
    "    sentences_text = \" \".join(list(df.text)) \n",
    "    pattern_brackets = re.compile(r'\\(.*?\\)')\n",
    "    sentences_text = re.sub(pattern_brackets, \"\", sentences_text) \n",
    "    sentences = seg.segment(sentences_text) \n",
    "    sentences = [re.sub(r\"^\\W+\", \"\", sentence) for sentence in sentences] \n",
    "    sentences = [re.sub(r\"\\s+\", \" \", sentence) for sentence in sentences]\n",
    "    return sentences\n",
    "\n",
    "def prep_data(json_file_path, ref_id):\n",
    "    \"\"\"\n",
    "    Return sentence lists for matches\n",
    "    \"\"\"\n",
    "    body_text_df = json2txt_df(json_file_path)\n",
    "    sentences = df2sentences(body_text_df)\n",
    "    candidates = []\n",
    "    for sentence in sentences:\n",
    "        doc = nlp(sentence)\n",
    "        matches = matcher(doc)\n",
    "        if len(matches) > 0:\n",
    "            sentence_dict = {\"text\":sentence,\n",
    "                             \"meta\":{\"ref_id\":str(ref_id)}}\n",
    "            candidates.append(sentence_dict)    \n",
    "    return candidates"
   ]
  },
  {
   "cell_type": "markdown",
   "metadata": {},
   "source": [
    "Extract column headers as search codes\n",
    "1. UMMZ codebook - Faye\n",
    "2. UMMZ codebook - Katherine"
   ]
  },
  {
   "cell_type": "code",
   "execution_count": 3,
   "metadata": {},
   "outputs": [
    {
     "name": "stdout",
     "output_type": "stream",
     "text": [
      "UMMZ codes by Faye: 380\n",
      "UMMZ codes by Katherine: 81\n",
      "All codes: 461\n"
     ]
    }
   ],
   "source": [
    "df_ummz_1 = pd.read_csv('../labels/manual/Faye_UMMZ.csv',encoding='utf-8')\n",
    "names_1 = df_ummz_1.Name.to_list()\n",
    "codes_ummz_1 = [i.replace(\"(\", \"\").replace(\")\", \"\").strip() for i in names_1]\n",
    "print(\"UMMZ codes by Faye:\",len(codes_ummz_1))\n",
    "\n",
    "df_ummz_2 = pd.read_csv('../labels/manual/Katherine_UMMZ.csv',encoding='utf-8')\n",
    "names_2 = df_ummz_2.Name.to_list()\n",
    "codes_ummz_2 = [i.replace(\"(\", \"\").replace(\")\", \"\").strip() for i in names_2]\n",
    "print(\"UMMZ codes by Katherine:\",len(codes_ummz_2))\n",
    "\n",
    "combined_codes = codes_ummz_1+codes_ummz_2\n",
    "\n",
    "print(\"All codes:\",len(combined_codes))\n",
    "codes_pattern = '|'.join(combined_codes)"
   ]
  },
  {
   "cell_type": "code",
   "execution_count": 4,
   "metadata": {},
   "outputs": [
    {
     "data": {
      "text/plain": [
       "'AMNH 3111~2433, 3111~2434, 3114~2437, 148969, 149104, 165651, 165653|FMNH 14717|FMNH 16730|FMNH 9512|FMNH 95122 [holotype], 147172, 14717|OMNH 17373|, NMP 468|, USNM 573505, 573834-57584|1 FMNH 169122-169124; 170965-17096|AMNH 12454|AMNH 130501, 130503, 130504, 130507, 130509– 130511, 130559|AMNH 130510|AMNH 131732, 131737, 136863, 136865, 136866, 137288, 137997, 137999, 139280, 139780|AMNH 140466|AMNH 147759|AMNH 167852|AMNH 185270|AMNH 208101|AMNH 209159, 209160, 210398–210400, 275463, 275465–275467|AMNH 244364|AMNH 259983|AMNH 266416, 266417, 267368, 267816|AMNH 266427–266434, 267369–267371, ~~267818|AMNH 267339|AMNH 267342|AMNH 267344|AMNH 268214, 272816, 273062, 273063, 273178, 273188|AMNH 269997|AMNH 272667|AMNH 272695|AMNH 272760|AMNH 272775|AMNH 272780|AMNH 272782|AMNH 272809|AMNH 272816|AMNH 272816 ~~|AMNH 272818|AMNH 272836|AMNH 272870|AMNH 273038|AMNH 273186 ~~|AMNH 276586|AMNH 276743|AMNH 276745|AMNH 276746|AMNH 276751|AMNH 276753|AMNH 276754|AMNH 276757|AMNH 277680–277682|AMNH 28283, 29541, 269997|AMNH 37890|AMNH 47186, 68127|AMNH 61195, 63350, 63404, 63407, 63413, 64525, 64532, 66873, 66883|AMNH 66852|AMNH 68128, 68129, 71950, 71952, 71974, 71976|AMNH 69939|AMNH 74302|AMNH 7433|AMNH 78001, 98656, 182937, 273186|AMNH 79250|AMNH ~~267346|AU 243, 246, 249|AU 355, 356|AU 363; LLU[REG] 253|BMNH 13.2.3.15|BMNH 27.11.1.268|BMNH 3.2.3.39, 3.4.7.22, 3.4.7.23, 4.1.5.48|BMNH 9.3.9.10|BMNH 98.5.15.1|BMNH 98.5.15.2|BMNH 98.7.1.23, 98.7.1.25|BMNH 98.7.1.26|BMNH 98.7.1.27|CEM 4691|CM 68359|CMC 1115, 3582|CMC 3582|CML 5911, 5912, 5913, 5914, 5915, 5916, 5917, 5918, 5919, 5920, 5922, 5924, 5925, 5926|e, FMNH 1755|EBRG 25389 ~~|FCR176|FMN H 147176|FMNH 137022|FMNH 137022 [F], 145685 [M], 145686 [F], 146788 [M], 146789 [M], 146790 [M]|FMNH 137022 and 145685|FMNH 137022, 145685, and 145686 ~~|FMNH 141586, 211415, 211416|FMNH 145685|FMNH 145686|FMNH 146788|FMNH 146788, 146789, and 146790|FMNH 146788–146790|FMNH 147176|FMNH 162495|FMNH 167307,170965,170966,175552,175558 ~~|FMNH 17555|FMNH 175552175554; 175556|FMNH 175555|FMNH 175557-175559; 175720,175721|FMNH 25453, 25455, 32981, 45963, 45964|FMNH 41791–41794|FMNH 467304-467309|FMNH 78445|FMNH 84252|FMNH 87924|FMNH 88543, 88545, 89364, 90101, 90102|FMNH 89991|FMNH 95122|FMNH ~~140824|FN 30300|FN 31677|GKC 783|GKC 816|HBR031|INPA 2570|INPA 5237 ~~|KF885791|KF885810|KF885810,|KF885910|KU 10095, 68598, 94635, 130420, 154163|KU 11430, 18636, 94378|KU 120010–120012;|KU 123843, 126852|KU 127966, 149491, 149493|KU 130567; NMNH 67213, 67214, 87783, 203737; UMMZ 65687, 65702, 65707, 108064, 108067|KU 131477–131479;|KU 131556, 131558, 131573, 139142, 139146|KU 131584, 131585, 131607, 131608|KU 164874 [F], 164875 [M], 164876 [F], 164877 [F], 164878 [F], 164992 [F], 164993 [F]|KU 165046|KU 165046 [M], 165047 [M], 165048 [M], 165049 [M], 165101 [M], 165102 [F], 165103 [M], 165104 [M], 165105 [M], 165106 [F], 165107 [F], 165108 [M]|KU 173, 50380, 142459, 156988, 163093|KU 17906, 30985, 30986, 38327, 55466|KU 20932, 91095, 123850, 126735, 126916, 145455|KU 233, 131913, 142475, 142477, 142478|KU 30003–30004, 30006; NMNH 54263–54264.|KU 32955, 41494, 46153, 142443, 149878|KU 34538, 34539, 149464–149466|KU 3454, 103744|KU 39752, 103734, 109121, 109125, 111663|KU 42671, 68195, 133310, 142526, 149965|KU 45926, 45929, 45935, 45936, 45938|KU 50417, 50418; NMNH 290273, 290274|KU 5740, 33097, 34576, 34929, 100423– 100424|KU 5884, 132291, 132306, 140973, 150009|KU 58966, 82425, 82426, 131708|KU 60404, 60407, 121370, 139046, 139047|KU 64610|KU 64611|KU 7155, 45897|KU 7155, 45897, 112536, 123637, 142877|KU 73621, 73624, 81088, 81090; NMNH 95353, 95358|KU 77945; UMMZ 32797, 33689, 42872, 53846, 76201, 83634, 87358, 105212, 108334|KU 8570, 28632, 134367, 149581|KU 9426, 12001, 81884, 116380, 123277, 127066, 127925, 149477|KU 95267, 160101, ~~160104, 160109|KUVP 6994|LLU[REG] 172, 2787|LSU 28017 ~~|MACN 41497|MACN 41497 ~~|MACN 49325|MACN 50177|MAM 38|MCP119|MCP119 ~~|MCZ 48061|MMD 607|MNFS 75|MNH 167304,167308,170967,175554, 175555|MNH 95122|MQ1229|MRM030|MSB 59883 ~~|MSB 87086 ~~|MSB 94363|MUSM 13282|MUSM 13283, 15293, 15294, 15296, 15297|MUSM 13284|MUSM 13289|MUSM 13292|MUSM 13293|MUSM 13294|MUSM 13298|MUSM 13299 ~~|MUSM 14154|MUSM 14154, 14155|MUSM 14155|MVZ 153280|MVZ 153280, 154759, 154765|MVZ 154929–154933, 190348 ~~|MVZ 173727|MVZ 182055|MVZ 182056|MVZ 182063–182065|MVZ 182064|MVZ 190323 ~~|MVZ 190323, 190324, 190328, 190332, 190333|MVZ 197629|MVZ 25496, 25497, 47611, 50337, 55396, 97163, 114455, 119563, 146788|MVZ 3294, 17818, 20546, 20548, 20549, 43257, 59733, 69212, 69642, 106424|NMNH 108992, 108999, 203497, 205787, 272027|NMNH 115220, 153386|NMNH 119909|NMNH 13331|NMNH 155197, 199621, 240734|NMNH 175286, 175293, 259717|NMNH 201726, 201729, 201730, 202410, 265911|NMNH 203286, 291554|NMNH 22732, 40847, 40851, 192752, 192753|NMNH 241947, 242102|NMNH 248103, 327293|NMNH 251638, 254948|NMNH 259440, 268752|NMNH 30470, 30507, 30793, 30908, 41568, 54528, 66378, 133073, 169580, 171281, 179642, 179643, 181157, 181160, 201600, 201601, 208130|NMNH 31159, 48359, 50096|NMNH 327276, 327277, 327290|NMNH 354520|NMNH 35497, 62112, 173380|NMNH 40075, 78189, 78393, 78593, 89759|NMNH 41367, 72817, 233218|NMNH 62121, 84105, 259438|NMNH 68750, 69231, 398240, 398241|NMNH 72226, 131437, 146358; UMMZ 54707, 58166|NMNH 78307, 78668, 78671, 78680, ~~1177 ~~80282|NMNH 79086–79087, 139744, 139746, 139748|NMNH 89319, 89321, 235738, 235744|NMNH 94292, 161510, 247284, 247767, 247768, 250459|NMP 4683|OMNH 17365, 17366, 17367|OMNH 17368|OMNH 17369|OMNH 17370, 17371, 19077, 19078|OMNH 17372|OMNH 17374|ri FMN H 147|ROM 104570|ROM 105316|ROM 107034|ROM 108920|ROM 113649|Rom 57242, 57243, 57245|ROM 95795, 96090, 96318, 96968, 99608, 99776|ROM 96483|ROM 96968 ~~|ROM 97938|ROM 98459|ROM 98855|RSV 2273|RSV 2357|s FMN H 951|TTU 102969|TTU 37700 ~~|TTU 39118 ~~|TTU 98654, 98717, 98934, 100922, 101098, 101153|UM 87990|UM 87990|UM87990|UMMP 33367|UMMP 42637|UMMP 45775|UMMP 47126|UMMP 47127|UMMP 47886|UMMP 54298|UMMP ~~33367|UMMZ 103416|UMMZ 108038, 108040|UMMZ 108131, 77502|UMMZ 108372–108376, 108378–108381|UMMZ 112004–112011|UMMZ 112048–112051, 112054–112056, 112058, 115415, 115417 ~~|UMMZ 113894–113903 ~~|UMMZ 114039–114045, 114047, 114054, 114058|UMMZ 114606, 114608–114611, 114613–114617 ~~|UMMZ 117236|UMMZ 117843|UMMZ 124622|UMMZ 124675, 126104, 133998–134006|UMMZ 126109–126111, 126113, 134010, 134011, 134017–134021|UMMZ 126289|UMMZ 126289, 134022, 134023, 134025, 134559, 134560|UMMZ 134018|UMMZ 134019|UMMZ 134041|UMMZ 134058|UMMZ 13426|UMMZ 134551|UMMZ 156005|UMMZ 156005 ~~|UMMZ 156349|UMMZ 158881|UMMZ 166225|UMMZ 166634|UMMZ 30009, 53759, 54039–54041, 62906, 76227, 81726, 165019, 168176|UMMZ 34917, 55610, 68296, 76249, 83626, 83627|UMMZ 53282, 83643, 92691, 103265, 105204, 162551|UMMZ 53830, 125072, 170527|UMMZ 53873, 54673, 57977, 58151, 58152, 59545, 108121|UMMZ 53961, 53962, 56092, 61718, 98668|UMMZ 54618, 58110–58111, 88514, 95780|UMMZ 54635, 54637, 54639, 54641, 54734|UMMZ 54662, 87785, 108089|UMMZ 54663, 54667|UMMZ 56217, 56221, 56239, 58745, 62045, 66426, 78004, 108104, 108207|UMMZ 56939, 56942, 65681, 65685, 80313, 87353, 87795, 87796, 162548|UMMZ 56956, 65919, 108028|UMMZ 57070, 59712, 59713, 65541, 77936|UMMZ 58055, 79346|UMMZ 58153, 59694, 59708, 108102, 108103, 108109|UMMZ 58787, 58788, 58791, 58792, 58794, 58795, 80015, 80019, 80020, 126766|UMMZ 59659, 66457, 90794, 97337, 102211, 112476, 112477; USNM 85072, 85073, 85076, 105106, 105107, 121351, 121353 ~~|UMMZ 59829, 59830, 59832, 59836–59838|UMMZ 59846, 62842, 65126, 65127, 65131, 68529, 112062–112064, 115418|UMMZ 61446, 61447, 61448, 61453, 61455 ~~|UMMZ 62693–62698, 65098, 65100–65102 ~~|UMMZ 62927, 62928, 64049–64051, 64057, 64058, 64061, 64062, 64064 ~~|UMMZ 64000, 75251, 79331, 89994, 91884, 108350, 108353, 108354|UMMZ 65970, 66427, 108235|UMMZ 66354, 66355, 68098, 78004, 78010, 78011, 107972|UMMZ 66358, 66875, 66877, 92750, 108290|UMMZ 75084, 102500, 102501; USNM 140860, 140862–140867|UMMZ 75249, 77509, 99864–99866, 99958, 99859, 99964–99966 ~~|UMMZ 78833, 78834, 87790, 87791, 108315|UMMZ 80025–80027, 80029–80031, 80033–80036 ~~|UMMZ 80524, 80527–80531, 83276, 86144, 87093, 92698 ~~|UMMZ 81727, 81728, 86796, 86802, 86807, 86809, 86814, 86825, 86858, 86870|UMMZ 94106, 94107, 94118, 94119, 158162, 146834, 158164|UMMZ 99541|UMMZ88967|University of Michigan Museum of Zoology 117122|UNSM 47191|UNSM 94979|USNM 121155, 121156, 121158, 461643, 513423, 551640|USNM 144648|USNM 144653|USNM 144653 [F], 144654 [M]|USNM 22863, 121169, 279603, 282274, 282275|USNM 262205|USNM 274577, 274578|USNM 306415–306422, 456814|USNM 361194–361201|USNM 372938–372940|USNM 372938–372940, 372942–372944, 372947, 385068, 385069|USNM 393480–393482, 393484, 393485, 578006–578008, 588119|USNM 443920|USNM 443920, 443929, 443840, 443845, 443847, 443920, 443924, 443947, 443951|USNM 461467, 461468 ~~|USNM 536827|USNM 549291|USNM 569368|USNM 569420, 569431, 569442, 569443, 569503|USNM 569420, 569431, 569442, 569503|USNM 569442|USNM 569554|USNM 569554, 569555, 570337, 570340|USNM 569858|USNM 569858, 570071|USNM 570248|USNM 570256, 570257, 570313, 570314|USNM 570313|USNM 570314|USNM 570337|USNM 582437|USNM 75886–75894;|USNM 758905|USNM 77051, 77052, 77054–77064, 77066–77068|USNM 77051–77064, 77066–77068|USNM 77057|USNM 77069|USNM 77070, 77072–77084|USNM 77078|USNM 77086, 77087|USNM ~~569443|USNM ~~582777|USNM ~~77053|UWZ 22422|UMMZ 77072, ♀ 77073, ♂ 77075, ♂ 77076, ♀ 77077, ♀ 77078, ♂ 77079, ♂ 77080, ♂ 77082,|UMMZ, 1|UMMZ, 3|UMMZ|UMMZ 103416|UMMZ 103647|UMMZ 106206|UMMZ 109223, 109226, 111009|UMMZ 111010|UMMZ 112000|UMMZ 112004–112011|UMMZ 113307|UMMZ 114346|UMMZ 115403|UMMZ 115813–115819,|UMMZ 115844, 115883, 115884, 117107–117110|UMMZ 117843|UMMZ 121012,|UMMZ 123729|UMMZ 123803,|UMMZ 124693,|UMMZ 125456|UMMZ 125456, 133793|UMMZ 126070|UMMZ 133793|UMMZ 133948-133952, 133954, 133955, 137113137116, 137118, 137122, 137126-137128, 137130-137133|UMMZ 133965|UMMZ 133969|UMMZ 133985|UMMZ 13426|UMMZ 134431|UMMZ 134443|UMMZ 137077|UMMZ 137561|UMMZ 138459|UMMZ 162680|UMMZ 174920-922, 174924, 174926, 174928, 174929, 174931, 174935-937, 174940942, 174919, 174969|UMMZ 17499|UMMZ 54239|UMMZ 57075-075;|UMMZ 58238|UMMZ 58275|UMMZ 61515|UMMZ 62242|UMMZ 62885|UMMZ 63138|UMMZ 64147|UMMZ 64931|UMMZ 66465|UMMZ 67315|UMMZ 68481|UMMZ 77061|UMMZ 77062|UMMZ 77072; 77075–76, 77080, 77082]|UMMZ 77075|UMMZ 77075 ~~|UMMZ 79379,|UMMZ 79832|UMMZ 79833|UMMZ 81432|UMMZ 81831|UMMZ 81833|UMMZ 83954|UMMZ 83971|UMMZ 99541|UMMZ, 1|UMMZ, 2|UMMZ, 3|UMMZ, 8|UMMZ, collected 2001|UMMZ-117715,|UMMZ-117716,|UMMZ-117717,|UMMZ-117718,|UMMZ-117719,|UMMZ-126298 - 126299|UMMZ133985|UMMZ134431|UMMZ8 8967|UMMZ88967|UMMZ_88967'"
      ]
     },
     "execution_count": 4,
     "metadata": {},
     "output_type": "execute_result"
    }
   ],
   "source": [
    "codes_pattern"
   ]
  },
  {
   "cell_type": "markdown",
   "metadata": {},
   "source": [
    "Read in and tokenize sentences from UMMZ papers"
   ]
  },
  {
   "cell_type": "code",
   "execution_count": 5,
   "metadata": {},
   "outputs": [
    {
     "name": "stdout",
     "output_type": "stream",
     "text": [
      "<class 'pandas.core.frame.DataFrame'>\n",
      "RangeIndex: 251706 entries, 0 to 251705\n",
      "Data columns (total 4 columns):\n",
      " #   Column         Non-Null Count   Dtype \n",
      "---  ------         --------------   ----- \n",
      " 0   Id             251706 non-null  object\n",
      " 1   section_title  251706 non-null  object\n",
      " 2   paper_title    251706 non-null  object\n",
      " 3   sent           251706 non-null  object\n",
      "dtypes: object(4)\n",
      "memory usage: 7.7+ MB\n",
      "CPU times: user 4min 12s, sys: 658 ms, total: 4min 13s\n",
      "Wall time: 8min 29s\n"
     ]
    }
   ],
   "source": [
    "%%time\n",
    "\n",
    "ummz_papers = glob.glob('../papers/*.json')\n",
    "\n",
    "df_train_pubs = pd.DataFrame()\n",
    "for train_file in ummz_papers: \n",
    "    with open(train_file, 'r') as f:\n",
    "        data = json.loads(f.read())\n",
    "        file_data = pd.json_normalize(data[\"pdf_parse\"][\"body_text\"])\n",
    "        file_data[\"paper_id\"] = data[\"title\"]\n",
    "    df_train_pubs = pd.concat([df_train_pubs, file_data])\n",
    "\n",
    "train_sentences = []\n",
    "\n",
    "for row in df_train_pubs.itertuples():\n",
    "    for sent in seg.segment(row[1]):\n",
    "        train_sentences.append((row[7], row[5], row[7], sent))\n",
    "        \n",
    "df_train = pd.DataFrame(train_sentences, columns=['Id', 'section_title', 'paper_title', 'sent'])\n",
    "df_train['sent'] = df_train['sent'].astype(str)\n",
    "df_train.info()"
   ]
  },
  {
   "cell_type": "markdown",
   "metadata": {},
   "source": [
    "Search for codes in paper sentences; clean codes and sentences"
   ]
  },
  {
   "cell_type": "code",
   "execution_count": null,
   "metadata": {},
   "outputs": [],
   "source": [
    "print(f\"Searching {len(glob.glob('../papers/*.json'))} papers for specimen codes\")\n",
    "df_ummz_sent['code'] = df_ummz_sent['sent'].apply(lambda x: extract_pat(search_str=x, search_list=codes_pattern))\n",
    "df_ummz_sent['has_code'] = (df_ummz_sent['code'] != \"None\")\n",
    "df_ummz_sent.code.value_counts()"
   ]
  },
  {
   "cell_type": "raw",
   "metadata": {},
   "source": [
    "Unique papers and codes in the training data"
   ]
  },
  {
   "cell_type": "code",
   "execution_count": 7,
   "metadata": {},
   "outputs": [
    {
     "name": "stdout",
     "output_type": "stream",
     "text": [
      "Unique papers:  510\n",
      "Unique labels:  49\n"
     ]
    }
   ],
   "source": [
    "print(\"Unique papers: \", df_train.Id.nunique())\n",
    "print(\"Unique labels: \", df_train.code.nunique())"
   ]
  },
  {
   "cell_type": "markdown",
   "metadata": {},
   "source": [
    "Resize so equal number of True and False sentences containing codes"
   ]
  },
  {
   "cell_type": "code",
   "execution_count": 8,
   "metadata": {},
   "outputs": [
    {
     "name": "stdout",
     "output_type": "stream",
     "text": [
      "<class 'pandas.core.frame.DataFrame'>\n",
      "Int64Index: 1306 entries, 160246 to 251535\n",
      "Data columns (total 6 columns):\n",
      " #   Column         Non-Null Count  Dtype \n",
      "---  ------         --------------  ----- \n",
      " 0   Id             1306 non-null   object\n",
      " 1   section_title  1306 non-null   object\n",
      " 2   paper_title    1306 non-null   object\n",
      " 3   sent           1306 non-null   object\n",
      " 4   code           1306 non-null   object\n",
      " 5   has_code       1306 non-null   bool  \n",
      "dtypes: bool(1), object(5)\n",
      "memory usage: 62.5+ KB\n"
     ]
    }
   ],
   "source": [
    "df_train_majority = df_train[df_train.has_code==False]\n",
    "df_train_minority = df_train[df_train.has_code==True]\n",
    "\n",
    "df_train_downsampled = resample(df_train_majority, replace=False, n_samples=len(df_train_minority), random_state=1)\n",
    "df_train_codes = pd.concat([df_train_downsampled, df_train_minority])\n",
    "\n",
    "df_train_codes.info()"
   ]
  },
  {
   "cell_type": "code",
   "execution_count": 9,
   "metadata": {},
   "outputs": [
    {
     "data": {
      "text/html": [
       "<div>\n",
       "<style scoped>\n",
       "    .dataframe tbody tr th:only-of-type {\n",
       "        vertical-align: middle;\n",
       "    }\n",
       "\n",
       "    .dataframe tbody tr th {\n",
       "        vertical-align: top;\n",
       "    }\n",
       "\n",
       "    .dataframe thead th {\n",
       "        text-align: right;\n",
       "    }\n",
       "</style>\n",
       "<table border=\"1\" class=\"dataframe\">\n",
       "  <thead>\n",
       "    <tr style=\"text-align: right;\">\n",
       "      <th></th>\n",
       "      <th>Id</th>\n",
       "      <th>section_title</th>\n",
       "      <th>paper_title</th>\n",
       "      <th>sent</th>\n",
       "      <th>code</th>\n",
       "      <th>has_code</th>\n",
       "    </tr>\n",
       "  </thead>\n",
       "  <tbody>\n",
       "    <tr>\n",
       "      <th>1928</th>\n",
       "      <td>AMERICAN MUSEUM Novitates PUBLISHED BY THE AME...</td>\n",
       "      <td>DESCRIPTION</td>\n",
       "      <td>AMERICAN MUSEUM Novitates PUBLISHED BY THE AME...</td>\n",
       "      <td>The tips of most Conophis organs I examined ar...</td>\n",
       "      <td>UMMZ</td>\n",
       "      <td>True</td>\n",
       "    </tr>\n",
       "    <tr>\n",
       "      <th>1986</th>\n",
       "      <td>AMERICAN MUSEUM Novitates PUBLISHED BY THE AME...</td>\n",
       "      <td>6</td>\n",
       "      <td>AMERICAN MUSEUM Novitates PUBLISHED BY THE AME...</td>\n",
       "      <td>In addition, notes on another (living) specime...</td>\n",
       "      <td>UMMZ</td>\n",
       "      <td>True</td>\n",
       "    </tr>\n",
       "    <tr>\n",
       "      <th>2001</th>\n",
       "      <td>AMERICAN MUSEUM Novitates PUBLISHED BY THE AME...</td>\n",
       "      <td>8</td>\n",
       "      <td>AMERICAN MUSEUM Novitates PUBLISHED BY THE AME...</td>\n",
       "      <td>A third specimen (UMMZ 124224) was said by Tes...</td>\n",
       "      <td>UMMZ</td>\n",
       "      <td>True</td>\n",
       "    </tr>\n",
       "    <tr>\n",
       "      <th>2163</th>\n",
       "      <td></td>\n",
       "      <td>DENTAL ABNORMALITY IN THE GENUS CASTOR</td>\n",
       "      <td></td>\n",
       "      <td>While examining a collection of 13-3 specimens...</td>\n",
       "      <td>UMMZ</td>\n",
       "      <td>True</td>\n",
       "    </tr>\n",
       "    <tr>\n",
       "      <th>2164</th>\n",
       "      <td></td>\n",
       "      <td>DENTAL ABNORMALITY IN THE GENUS CASTOR</td>\n",
       "      <td></td>\n",
       "      <td>Both upper third molars are present in the sku...</td>\n",
       "      <td>UMMZ</td>\n",
       "      <td>True</td>\n",
       "    </tr>\n",
       "    <tr>\n",
       "      <th>...</th>\n",
       "      <td>...</td>\n",
       "      <td>...</td>\n",
       "      <td>...</td>\n",
       "      <td>...</td>\n",
       "      <td>...</td>\n",
       "      <td>...</td>\n",
       "    </tr>\n",
       "    <tr>\n",
       "      <th>241613</th>\n",
       "      <td>MISCELLANEOUS PUBLICATIONS MUSEUM OF ZOOLOGY, ...</td>\n",
       "      <td>MATERIALS</td>\n",
       "      <td>MISCELLANEOUS PUBLICATIONS MUSEUM OF ZOOLOGY, ...</td>\n",
       "      <td>Large series of Neobawettia were studied in th...</td>\n",
       "      <td>UMMZ</td>\n",
       "      <td>True</td>\n",
       "    </tr>\n",
       "    <tr>\n",
       "      <th>242310</th>\n",
       "      <td>MISCELLANEOUS PUBLICATIONS MUSEUM OF ZOOLOGY, ...</td>\n",
       "      <td>DISTRIUUT~ON (Figs. 9 and 24</td>\n",
       "      <td>MISCELLANEOUS PUBLICATIONS MUSEUM OF ZOOLOGY, ...</td>\n",
       "      <td>NW Mazatlzin Airport; El Venadillo (4.5 mi. NE...</td>\n",
       "      <td>UMMZ</td>\n",
       "      <td>True</td>\n",
       "    </tr>\n",
       "    <tr>\n",
       "      <th>242422</th>\n",
       "      <td>MISCELLANEOUS PUBLICATIONS MUSEUM OF ZOOLOGY, ...</td>\n",
       "      <td>53</td>\n",
       "      <td>MISCELLANEOUS PUBLICATIONS MUSEUM OF ZOOLOGY, ...</td>\n",
       "      <td>NW Guasave (UMMZ, TINK); 42, 19, 8 mi.</td>\n",
       "      <td>UMMZ</td>\n",
       "      <td>True</td>\n",
       "    </tr>\n",
       "    <tr>\n",
       "      <th>242979</th>\n",
       "      <td>MISCELLANEOUS PUBLICATIONS MUSEUM OF ZOOLOGY, ...</td>\n",
       "      <td>rI'IIEOL)ORE J. COI-IN</td>\n",
       "      <td>MISCELLANEOUS PUBLICATIONS MUSEUM OF ZOOLOGY, ...</td>\n",
       "      <td>Meso-and tnetanota entirely jet black or very ...</td>\n",
       "      <td>UMMZ</td>\n",
       "      <td>True</td>\n",
       "    </tr>\n",
       "    <tr>\n",
       "      <th>251535</th>\n",
       "      <td>Three new species of spiny mice, genus Neacomy...</td>\n",
       "      <td>Source of material</td>\n",
       "      <td>Three new species of spiny mice, genus Neacomy...</td>\n",
       "      <td>The examined material is deposited in the foll...</td>\n",
       "      <td>UMMZ</td>\n",
       "      <td>True</td>\n",
       "    </tr>\n",
       "  </tbody>\n",
       "</table>\n",
       "<p>653 rows × 6 columns</p>\n",
       "</div>"
      ],
      "text/plain": [
       "                                                       Id  \\\n",
       "1928    AMERICAN MUSEUM Novitates PUBLISHED BY THE AME...   \n",
       "1986    AMERICAN MUSEUM Novitates PUBLISHED BY THE AME...   \n",
       "2001    AMERICAN MUSEUM Novitates PUBLISHED BY THE AME...   \n",
       "2163                                                        \n",
       "2164                                                        \n",
       "...                                                   ...   \n",
       "241613  MISCELLANEOUS PUBLICATIONS MUSEUM OF ZOOLOGY, ...   \n",
       "242310  MISCELLANEOUS PUBLICATIONS MUSEUM OF ZOOLOGY, ...   \n",
       "242422  MISCELLANEOUS PUBLICATIONS MUSEUM OF ZOOLOGY, ...   \n",
       "242979  MISCELLANEOUS PUBLICATIONS MUSEUM OF ZOOLOGY, ...   \n",
       "251535  Three new species of spiny mice, genus Neacomy...   \n",
       "\n",
       "                                 section_title  \\\n",
       "1928                               DESCRIPTION   \n",
       "1986                                         6   \n",
       "2001                                         8   \n",
       "2163    DENTAL ABNORMALITY IN THE GENUS CASTOR   \n",
       "2164    DENTAL ABNORMALITY IN THE GENUS CASTOR   \n",
       "...                                        ...   \n",
       "241613                               MATERIALS   \n",
       "242310            DISTRIUUT~ON (Figs. 9 and 24   \n",
       "242422                                      53   \n",
       "242979                  rI'IIEOL)ORE J. COI-IN   \n",
       "251535                      Source of material   \n",
       "\n",
       "                                              paper_title  \\\n",
       "1928    AMERICAN MUSEUM Novitates PUBLISHED BY THE AME...   \n",
       "1986    AMERICAN MUSEUM Novitates PUBLISHED BY THE AME...   \n",
       "2001    AMERICAN MUSEUM Novitates PUBLISHED BY THE AME...   \n",
       "2163                                                        \n",
       "2164                                                        \n",
       "...                                                   ...   \n",
       "241613  MISCELLANEOUS PUBLICATIONS MUSEUM OF ZOOLOGY, ...   \n",
       "242310  MISCELLANEOUS PUBLICATIONS MUSEUM OF ZOOLOGY, ...   \n",
       "242422  MISCELLANEOUS PUBLICATIONS MUSEUM OF ZOOLOGY, ...   \n",
       "242979  MISCELLANEOUS PUBLICATIONS MUSEUM OF ZOOLOGY, ...   \n",
       "251535  Three new species of spiny mice, genus Neacomy...   \n",
       "\n",
       "                                                     sent  code  has_code  \n",
       "1928    The tips of most Conophis organs I examined ar...  UMMZ      True  \n",
       "1986    In addition, notes on another (living) specime...  UMMZ      True  \n",
       "2001    A third specimen (UMMZ 124224) was said by Tes...  UMMZ      True  \n",
       "2163    While examining a collection of 13-3 specimens...  UMMZ      True  \n",
       "2164    Both upper third molars are present in the sku...  UMMZ      True  \n",
       "...                                                   ...   ...       ...  \n",
       "241613  Large series of Neobawettia were studied in th...  UMMZ      True  \n",
       "242310  NW Mazatlzin Airport; El Venadillo (4.5 mi. NE...  UMMZ      True  \n",
       "242422            NW Guasave (UMMZ, TINK); 42, 19, 8 mi.   UMMZ      True  \n",
       "242979  Meso-and tnetanota entirely jet black or very ...  UMMZ      True  \n",
       "251535  The examined material is deposited in the foll...  UMMZ      True  \n",
       "\n",
       "[653 rows x 6 columns]"
      ]
     },
     "execution_count": 9,
     "metadata": {},
     "output_type": "execute_result"
    }
   ],
   "source": [
    "df_train_codes[df_train_codes.has_code==True]"
   ]
  },
  {
   "cell_type": "markdown",
   "metadata": {},
   "source": [
    "Get `specimen_code` entity spans for positive examples and set as 0,0 for negative examples"
   ]
  },
  {
   "cell_type": "code",
   "execution_count": 10,
   "metadata": {},
   "outputs": [
    {
     "name": "stdout",
     "output_type": "stream",
     "text": [
      "CPU times: user 103 ms, sys: 992 µs, total: 104 ms\n",
      "Wall time: 210 ms\n"
     ]
    }
   ],
   "source": [
    "%%time\n",
    "\n",
    "POSITIVE_DATA = []\n",
    "NEGATIVE_DATA = []\n",
    "\n",
    "for idx, row in df_train_codes.iterrows():\n",
    "    label = row.code\n",
    "    sentence = row.sent\n",
    "    label2 = clean_text(label)\n",
    "    sentence2 = clean_text(sentence)\n",
    "    a = re.search(label2, sentence2)\n",
    "    if row.has_code == False:\n",
    "        NEGATIVE_DATA.append((clean_text2(sentence),{\"entities\":[(0,0,\"SPECIMEN\")]}))\n",
    "    else:\n",
    "        POSITIVE_DATA.append((clean_text2(sentence),{\"entities\":[(a.span()[0],a.span()[1],\"SPECIMEN\")]}))"
   ]
  },
  {
   "cell_type": "code",
   "execution_count": 11,
   "metadata": {},
   "outputs": [
    {
     "data": {
      "text/plain": [
       "[('The tips of most Conophis organs I examined are not quite everted AMNH 66337 123917 126423 but in the one illustrated by Wellman UMMZ 82650 the apex of each short bilobation has at the terminus of the sulcus a hard nearly nude slightly papillate bump or projection the mistaken disc ',\n",
       "  {'entities': [(129, 133, 'SPECIMEN')]}),\n",
       " ('In addition notes on another living specimen from Rancho Grande were provided by the late Scott J Maness in litt Dec 2 1974 8 HEMIPENIS The left uneverted organ of UMMZ 124221 extends in situ to the end of subcaudal 8 being bifurcated from the base of subcaudal 7 and with the two slips of the major retractor muscle merging at the end of subcaudal 9 the major retractor muscle originates at the level ofsubcaudal 24 ',\n",
       "  {'entities': [(164, 168, 'SPECIMEN')]}),\n",
       " ('A third specimen UMMZ 124224 was said by Test et al 1966 p 44 to have had the belly gray with pinkish flush and the interstripe areas posteriorly a pale brown I would add that the specimen mentioned by Test et al is a juvenile of 210 mm total length and that in preservative the black head color extends for a distance of five scales onto the nape and there are poorly defined black crossbars on the anterior one third of the body both the head cap and crossbars being pattern features that are absent or inconspicuous on adults ',\n",
       "  {'entities': [(17, 21, 'SPECIMEN')]}),\n",
       " ('While examining a collection of 13 3 specimens of Castor canadensis Kuhl in The University of Michigan Museum of Zoology two specimens UMMZ 7542 2 and UMMZ 75439 were found in which the m3 was missing from both mandibles ',\n",
       "  {'entities': [(135, 139, 'SPECIMEN')]}),\n",
       " ('Both upper third molars are present in the skull of UMMZ 75439 but only the LM3 is present in UMMZ 75422 ',\n",
       "  {'entities': [(52, 56, 'SPECIMEN')]}),\n",
       " ('Comparisons were made with many specimens in the University of Michigan Museum of Zoology UMMZ collections ',\n",
       "  {'entities': [(90, 94, 'SPECIMEN')]}),\n",
       " ('The most relevant specimens were Vespertilionidae Antrosous pallidus UMMZ 54294 ',\n",
       "  {'entities': [(69, 73, 'SPECIMEN')]}),\n",
       " ('Tamaulipas Linares 1 USFWS Mier l USFWS Mulato 3 UMMZ Nuevo Laredo 1 USFWS Victoria 1 USFWS ',\n",
       "  {'entities': [(49, 53, 'SPECIMEN')]}),\n",
       " ('Custer County Custer State Park 1 UMMZ Jewel Cave 6 1 UMMZ formerly Cleveland Mus Nat Hist 5 UW 3111i ',\n",
       "  {'entities': [(34, 38, 'SPECIMEN')]}),\n",
       " (' CUSTER COUNTY Custer State Park 1 UMMZ Jewel Cave 6 1 UMMZ 4 UW 3 mi ',\n",
       "  {'entities': [(35, 39, 'SPECIMEN')]})]"
      ]
     },
     "execution_count": 11,
     "metadata": {},
     "output_type": "execute_result"
    }
   ],
   "source": [
    "POSITIVE_DATA[:10]"
   ]
  },
  {
   "cell_type": "code",
   "execution_count": 12,
   "metadata": {},
   "outputs": [
    {
     "data": {
      "text/plain": [
       "[('Dorsal ventral coun tershading apparent in most species indistinct in two but without pronounced lateral line ',\n",
       "  {'entities': [(0, 0, 'SPECIMEN')]}),\n",
       " ('Among many semiaquatic carnivorous small mammals conspicuous enlargement of the medulla oblongata and the cerebrum does indeed appear to be consistently correlated with increased vibrissal density and sensitivity Bauchot and Stephan 1968 Rehkiimper 1981 Stephan and Kuhn 1982 Stephan and Dieterlen 1982 ',\n",
       "  {'entities': [(0, 0, 'SPECIMEN')]}),\n",
       " ('There is disproportionate development of the interparietals in the various subspecies of Liomys in watus ',\n",
       "  {'entities': [(0, 0, 'SPECIMEN')]}),\n",
       " ('Not one ofthe five lives in undisturbed primary forest formations all are restricted to habitats associated with human activity cities harbors villages agricultural fields scrub tropical gardens and second growth forest near villages and towns ',\n",
       "  {'entities': [(0, 0, 'SPECIMEN')]}),\n",
       " ('This is in spite of our measuring age for females in group 1 from the time of birth of their first lab born litters vs from the actual time of birth for group 2 ',\n",
       "  {'entities': [(0, 0, 'SPECIMEN')]}),\n",
       " ('A more fully annotated genome coupled with denser sampling of the genome for patterns of introgression along with comparisons of introgression across multiple transects will provide a more complete un derstanding of the genetic underpinnings of reproductive isolation in this system ',\n",
       "  {'entities': [(0, 0, 'SPECIMEN')]}),\n",
       " ('Remarks ', {'entities': [(0, 0, 'SPECIMEN')]}),\n",
       " ('Word frequency thousands ', {'entities': [(0, 0, 'SPECIMEN')]}),\n",
       " ('Finally ste bhe17 si is unlikc both nzexica in anti p h e i n x arlcl like Olotylort ys in that t l e cartilaginous spine of the bacul um is short about l 4 lengtll ol bone and only its tip is lree o l tllc crater walls ',\n",
       "  {'entities': [(0, 0, 'SPECIMEN')]}),\n",
       " ('For squirrels the value Fig 4 Ontogenies of shape for the eight species of myomorphs and sciurids from the eruption of the deciduous premolar P 4 squirrels or molar M 1 myomorphs to the shape of the adult jaw at mean adult size is far lower D 0 0486 but that too is an order of magnitude higher than the observed value D 0 0052 and disparity increases nearly five fold over ontogeny ',\n",
       "  {'entities': [(0, 0, 'SPECIMEN')]})]"
      ]
     },
     "execution_count": 12,
     "metadata": {},
     "output_type": "execute_result"
    }
   ],
   "source": [
    "NEGATIVE_DATA[:10]"
   ]
  },
  {
   "cell_type": "markdown",
   "metadata": {},
   "source": [
    "Split labeled data into TRAIN (90), TEST (10) data set - held out for model evaluation"
   ]
  },
  {
   "cell_type": "code",
   "execution_count": 13,
   "metadata": {},
   "outputs": [
    {
     "name": "stdout",
     "output_type": "stream",
     "text": [
      "Training instances:  1175\n",
      "Testing instances:  131\n"
     ]
    }
   ],
   "source": [
    "COMBO_DATA = np.array(NEGATIVE_DATA + POSITIVE_DATA)\n",
    "random.seed(1)\n",
    "random.shuffle(COMBO_DATA)\n",
    "\n",
    "TRAIN_DATA, TEST_DATA = train_test_split(COMBO_DATA, test_size=(0.1), random_state=1)\n",
    "\n",
    "print(\"Training instances: \", len(TRAIN_DATA))\n",
    "print(\"Testing instances: \", len(TEST_DATA))"
   ]
  },
  {
   "cell_type": "code",
   "execution_count": 14,
   "metadata": {},
   "outputs": [
    {
     "data": {
      "text/plain": [
       "array([['These haplotypes along with the others gathered from Deltamys specimens were employed in population level comparisons ',\n",
       "        {'entities': [(0, 0, 'SPECIMEN')]}],\n",
       "       ['Remarks One of the specimens we refer to Marmosa jansae BMNH 11 7 19 20 was identified by Tate 1933 80 as M germana germana but later in the same publication on p 82 he identified two other specimens AMNH 64025 68142 as M germana rutteri ',\n",
       "        {'entities': [(0, 0, 'SPECIMEN')]}],\n",
       "       ['Never have I seen any indication of antagonism between individuals either i n captivity or in the wild ',\n",
       "        {'entities': [(0, 0, 'SPECIMEN')]}],\n",
       "       ['Pelage dense long and lax ', {'entities': [(0, 0, 'SPECIMEN')]}],\n",
       "       ['We now have counts of documents in each of the four categories ',\n",
       "        {'entities': [(0, 0, 'SPECIMEN')]}],\n",
       "       ['The derived conditions follow ',\n",
       "        {'entities': [(0, 0, 'SPECIMEN')]}],\n",
       "       ['Alouatta seniculus bogotensis Allen Bull ',\n",
       "        {'entities': [(0, 0, 'SPECIMEN')]}],\n",
       "       ['microtinus to Zygodontomys observing that these short tailed rats allied to Oryzomys seem to form a natural group and there is a convenience in their having a special name ',\n",
       "        {'entities': [(0, 0, 'SPECIMEN')]}],\n",
       "       ['We are grateful to the curators and collection support staff of numerous museums who hosted our visits or loaned us specimens over the many years that our revisionary work on the subgenus Micoureus has extended including Roberto Portela at the BMNH Bruce Patterson Adam Ferguson and John Phelps FMNH Robert M Timm and Maria Eifler KU Jake Esselstyn and Steve Cardiff LSUMZ Victor Pacheco and Judith Carrasco MUSM Mark Engstrom Burton Lim and Jacqui Miller ROM Robert Bradley and Heath Garner TTU Priscilla Tucker and Cody Thompson UMMZ and Alfred Gardner and Darrin Lunde USNM ',\n",
       "        {'entities': [(531, 535, 'SPECIMEN')]}],\n",
       "       [' Wikipedia 16 Quandl', {'entities': [(0, 0, 'SPECIMEN')]}]],\n",
       "      dtype=object)"
      ]
     },
     "execution_count": 14,
     "metadata": {},
     "output_type": "execute_result"
    }
   ],
   "source": [
    "TRAIN_DATA[:10]"
   ]
  },
  {
   "cell_type": "code",
   "execution_count": 15,
   "metadata": {},
   "outputs": [
    {
     "data": {
      "text/plain": [
       "array([['Text figure 8K shows the pit starting to form ',\n",
       "        {'entities': [(0, 0, 'SPECIMEN')]}],\n",
       "       ['Short term weather fluctuations can cause significant demographic trends both in sex ratio and litter size and also affect body weight ',\n",
       "        {'entities': [(0, 0, 'SPECIMEN')]}],\n",
       "       ['In the desert belt there are the unexpected records by Blair 41 from several associations on the desert plain near Tularosa ',\n",
       "        {'entities': [(0, 0, 'SPECIMEN')]}],\n",
       "       ['sylvaticus A alpicola A microps A hermonensis and A mystacinus ',\n",
       "        {'entities': [(0, 0, 'SPECIMEN')]}],\n",
       "       ['Hammond L S derstr m and R S Voss from 1913 Voss from to 1980 seven of these specimens are at the BMNH and the eighth is at the UMMZ ',\n",
       "        {'entities': [(128, 132, 'SPECIMEN')]}],\n",
       "       ['Frugivorous bats are conspicuously absent in rnost parts of the Chaco with all present records either from comparatively mesic areas along the Rio Paraguay o r from that time of year late winter August when many trees are in flower ',\n",
       "        {'entities': [(0, 0, 'SPECIMEN')]}],\n",
       "       ['31 Bolivar Salto Uraima 0617 6335 Rio Paragua elevation less than 500 m from map ',\n",
       "        {'entities': [(0, 0, 'SPECIMEN')]}],\n",
       "       ['There is at least one conspicuous omission in Wilson s Monte Verde list Oryzomysfulvescens specimens in UMMZ and Wilson provided neither published sources for his lists nor the names of museum collections where vouchers are deposited ',\n",
       "        {'entities': [(104, 108, 'SPECIMEN')]}],\n",
       "       ['Both upper third molars are present in the skull of UMMZ 75439 but only the LM3 is present in UMMZ 75422 ',\n",
       "        {'entities': [(52, 56, 'SPECIMEN')]}],\n",
       "       ['On this single character all specimens of angelensis can be separated from those of banderanus ',\n",
       "        {'entities': [(0, 0, 'SPECIMEN')]}]], dtype=object)"
      ]
     },
     "execution_count": 15,
     "metadata": {},
     "output_type": "execute_result"
    }
   ],
   "source": [
    "TEST_DATA[:10]"
   ]
  },
  {
   "cell_type": "markdown",
   "metadata": {},
   "source": [
    "## 2. Train NER model\n",
    "\n",
    "Pipeline will detect `SPECIMEN` as a custom entity. Requires accelerator (GPU)."
   ]
  },
  {
   "cell_type": "code",
   "execution_count": 16,
   "metadata": {},
   "outputs": [
    {
     "name": "stdout",
     "output_type": "stream",
     "text": [
      "3.3.1\n"
     ]
    }
   ],
   "source": [
    "print(spacy.__version__)"
   ]
  },
  {
   "cell_type": "code",
   "execution_count": 17,
   "metadata": {},
   "outputs": [],
   "source": [
    "# print(spacy.require_gpu())"
   ]
  },
  {
   "cell_type": "code",
   "execution_count": 18,
   "metadata": {},
   "outputs": [],
   "source": [
    "# nlp = spacy.blank(\"en\")\n",
    "\n",
    "# db_train = DocBin()\n",
    "# db_test = DocBin()"
   ]
  },
  {
   "cell_type": "code",
   "execution_count": 19,
   "metadata": {},
   "outputs": [],
   "source": [
    "# for text, annot in tqdm(TRAIN_DATA):\n",
    "#     doc = nlp.make_doc(text)\n",
    "#     ents = []\n",
    "#     for start, end, label in annot[\"entities\"]:\n",
    "#         span = doc.char_span(start, end, label=label, alignment_mode=\"contract\")\n",
    "#         if span is None:\n",
    "#             pass\n",
    "#         else:\n",
    "#             ents.append(span)\n",
    "#     doc.ents = ents\n",
    "#     db_train.add(doc)\n",
    "\n",
    "# db_train.to_disk(\"../models/manual/train.spacy\")"
   ]
  },
  {
   "cell_type": "code",
   "execution_count": 20,
   "metadata": {},
   "outputs": [],
   "source": [
    "# for text, annot in tqdm(TEST_DATA):\n",
    "#     doc = nlp.make_doc(text)\n",
    "#     ents = []\n",
    "#     for start, end, label in annot[\"entities\"]:\n",
    "#         span = doc.char_span(start, end, label=label, alignment_mode=\"contract\")\n",
    "#         if span is None:\n",
    "#             pass\n",
    "#         else:\n",
    "#             ents.append(span)\n",
    "#     doc.ents = ents\n",
    "#     db_test.add(doc)\n",
    "\n",
    "# db_test.to_disk(\"../models/manual/dev.spacy\")"
   ]
  },
  {
   "cell_type": "markdown",
   "metadata": {},
   "source": [
    "## Train and save NER model\n",
    "Use command-line interface (CLI) so program sources spaCy correctly"
   ]
  },
  {
   "cell_type": "code",
   "execution_count": 21,
   "metadata": {},
   "outputs": [],
   "source": [
    "# !python -m spacy train ../models/manual/config.cfg --output ../models/manual/ --paths.train ../models/manual/train.spacy --paths.dev ../models/manual/dev.spacy --gpu-id 0"
   ]
  },
  {
   "cell_type": "markdown",
   "metadata": {},
   "source": [
    "## 3. Apply NER model\n",
    "Extract `SPECIMEN` codes from papers in the UMMZ bibliography. Accelerator (GPU) optional."
   ]
  },
  {
   "cell_type": "code",
   "execution_count": 22,
   "metadata": {},
   "outputs": [],
   "source": [
    "custom_ner_model = spacy.load(\"../models/manual/model-best/\")"
   ]
  },
  {
   "cell_type": "markdown",
   "metadata": {},
   "source": [
    "Apply NER model to the full text of papers from UMMZ bibliography"
   ]
  },
  {
   "cell_type": "code",
   "execution_count": 23,
   "metadata": {},
   "outputs": [
    {
     "name": "stderr",
     "output_type": "stream",
     "text": [
      "/sw/arcts/centos7/python/3.9.7/pytorch/1.10.2/lib/python3.9/site-packages/torch/autocast_mode.py:141: UserWarning: User provided device_type of 'cuda', but CUDA is not available. Disabling\n",
      "  warnings.warn('User provided device_type of \\'cuda\\', but CUDA is not available. Disabling')\n"
     ]
    },
    {
     "name": "stdout",
     "output_type": "stream",
     "text": [
      "CPU times: user 8h 41min 51s, sys: 2min 2s, total: 8h 43min 53s\n",
      "Wall time: 17h 22min 43s\n"
     ]
    },
    {
     "data": {
      "text/plain": [
       " UMMZ              500\n",
       " AMNH              100\n",
       " MVZ                37\n",
       " FMNH               33\n",
       " UM                 29\n",
       "                  ... \n",
       " UMMZ13              1\n",
       " AMNH departed       1\n",
       " AMNH 185323         1\n",
       " AMNH as             1\n",
       " FMNH 172248         1\n",
       "Name: specimen_prediction, Length: 1272, dtype: int64"
      ]
     },
     "execution_count": 23,
     "metadata": {},
     "output_type": "execute_result"
    }
   ],
   "source": [
    "%%time\n",
    "\n",
    "df_test_pubs = pd.DataFrame()\n",
    "for test_file in ummz_papers: \n",
    "    with open(test_file, 'r') as f:\n",
    "        data = json.loads(f.read())\n",
    "        file_data = pd.json_normalize(data[\"pdf_parse\"][\"body_text\"])\n",
    "        file_data[\"paper_id\"] = data[\"title\"]\n",
    "    df_test_pubs = pd.concat([df_test_pubs, file_data])\n",
    "\n",
    "ummz_sentences = []\n",
    "\n",
    "for row in df_test_pubs.itertuples():\n",
    "    for sent in seg.segment(row[1]):\n",
    "        ummz_sentences.append((row[7], row[5], row[7], sent))\n",
    "        \n",
    "df_ummz_sent = pd.DataFrame(ummz_sentences, columns=['Id', 'section_title', 'paper_title', 'sent'])\n",
    "df_ummz_sent['sent'] = df_ummz_sent['sent'].astype(str)\n",
    "\n",
    "papers_sample = random.sample(ummz_papers, 1)\n",
    "\n",
    "def extract_ents(text):\n",
    "    \"\"\"\n",
    "    Extract named entities, and beginning, middle and end idx     \n",
    "    \"\"\"\n",
    "    doc = custom_ner_model(text)\n",
    "    if len(doc.ents) > 0:\n",
    "        return clean_text2(doc.ents)\n",
    "    else:\n",
    "        return None\n",
    "\n",
    "def predict_ents(df):\n",
    "    \"\"\"\n",
    "    Create new column in data frame with named entity tuple extracted\n",
    "    \"\"\"\n",
    "    df_ummz_sent['specimen_prediction'] = df_ummz_sent['sent'].apply(extract_ents)\n",
    "    \n",
    "predict_ents(df_ummz_sent)\n",
    "\n",
    "df_ummz_sent['specimen_prediction'].value_counts().sort_values(ascending=False)"
   ]
  },
  {
   "cell_type": "markdown",
   "metadata": {},
   "source": [
    "Demonstrate model predictions with a randomly sampled paper in the UMMZ bibliography"
   ]
  },
  {
   "cell_type": "code",
   "execution_count": 30,
   "metadata": {},
   "outputs": [
    {
     "name": "stdout",
     "output_type": "stream",
     "text": [
      "Searching for SPECIMEN entities in paper: 798.1.json\n"
     ]
    },
    {
     "name": "stderr",
     "output_type": "stream",
     "text": [
      "/sw/arcts/centos7/python/3.9.7/pytorch/1.10.2/lib/python3.9/site-packages/torch/autocast_mode.py:141: UserWarning: User provided device_type of 'cuda', but CUDA is not available. Disabling\n",
      "  warnings.warn('User provided device_type of \\'cuda\\', but CUDA is not available. Disabling')\n"
     ]
    },
    {
     "name": "stdout",
     "output_type": "stream",
     "text": [
      "CPU times: user 2min 34s, sys: 519 ms, total: 2min 34s\n",
      "Wall time: 2min 39s\n"
     ]
    }
   ],
   "source": [
    "%%time\n",
    "\n",
    "papers_sample = random.sample(ummz_papers, 1)\n",
    "\n",
    "for file in papers_sample:\n",
    "    ref_id = file.split(\"/\")[-1].split(\"-\")[0]\n",
    "    print(f\"Searching for SPECIMEN entities in paper: {ref_id}\")\n",
    "    body_text_df = json2txt_df(file)\n",
    "    sentence_list = df2sentences(body_text_df)\n",
    "    for sentence in sentence_list:\n",
    "        clean_sent = clean_text2(sentence)\n",
    "        doc = custom_ner_model(clean_sent)\n",
    "        if len(doc.ents) > 0:\n",
    "            displacy.render(doc, style=\"ent\", jupyter=True)"
   ]
  },
  {
   "cell_type": "markdown",
   "metadata": {},
   "source": [
    "Show the most frequently extracted specimen codes from available UMMZ Bibliography papers"
   ]
  },
  {
   "cell_type": "code",
   "execution_count": 31,
   "metadata": {},
   "outputs": [
    {
     "data": {
      "image/png": "[encoded data removed]",
      "text/plain": [
       "<Figure size 1440x720 with 1 Axes>"
      ]
     },
     "metadata": {
      "needs_background": "light"
     },
     "output_type": "display_data"
    }
   ],
   "source": [
    "ax = df_ummz_sent['specimen_prediction'].value_counts().nlargest(50).sort_values().plot(kind='barh',figsize=(20,10))\n",
    "ax.figure.savefig('../results/manual_count.png', dpi=300)\n"
   ]
  },
  {
   "cell_type": "markdown",
   "metadata": {},
   "source": [
    "Top, unique entities across papers in available papers in UMMZ Bibliogrpahy\n"
   ]
  },
  {
   "cell_type": "code",
   "execution_count": 32,
   "metadata": {},
   "outputs": [
    {
     "data": {
      "text/plain": [
       "1273"
      ]
     },
     "execution_count": 32,
     "metadata": {},
     "output_type": "execute_result"
    }
   ],
   "source": [
    "ummz_unique_codes = set(df_ummz_sent['specimen_prediction'].unique())\n",
    "len(ummz_unique_codes)"
   ]
  },
  {
   "cell_type": "code",
   "execution_count": 33,
   "metadata": {},
   "outputs": [
    {
     "data": {
      "text/html": [
       "<div>\n",
       "<style scoped>\n",
       "    .dataframe tbody tr th:only-of-type {\n",
       "        vertical-align: middle;\n",
       "    }\n",
       "\n",
       "    .dataframe tbody tr th {\n",
       "        vertical-align: top;\n",
       "    }\n",
       "\n",
       "    .dataframe thead th {\n",
       "        text-align: right;\n",
       "    }\n",
       "</style>\n",
       "<table border=\"1\" class=\"dataframe\">\n",
       "  <thead>\n",
       "    <tr style=\"text-align: right;\">\n",
       "      <th></th>\n",
       "      <th>Id</th>\n",
       "      <th>section_title</th>\n",
       "      <th>paper_title</th>\n",
       "      <th>sent</th>\n",
       "      <th>specimen_prediction</th>\n",
       "      <th>paper</th>\n",
       "    </tr>\n",
       "  </thead>\n",
       "  <tbody>\n",
       "    <tr>\n",
       "      <th>41</th>\n",
       "      <td>,,,,,,,,,,,,,</td>\n",
       "      <td>Isothrix barbarabrownae, new species</td>\n",
       "      <td></td>\n",
       "      <td>-MUSM 16819 (Museo de Historia Natural, Univer...</td>\n",
       "      <td>MUSM</td>\n",
       "      <td>0</td>\n",
       "    </tr>\n",
       "    <tr>\n",
       "      <th>708</th>\n",
       "      <td>The Smithsonian Institution African Mammal Pro...</td>\n",
       "      <td>AMP and Earlier Smithsonian African Expeditions</td>\n",
       "      <td>The Smithsonian Institution African Mammal Pro...</td>\n",
       "      <td>The 39 new forms so far issuing from the AMP (...</td>\n",
       "      <td>USNM 470588 USNM 402309</td>\n",
       "      <td>169</td>\n",
       "    </tr>\n",
       "    <tr>\n",
       "      <th>1856</th>\n",
       "      <td>AMERICAN MUSEUM Novitates PUBLISHED BY THE AME...</td>\n",
       "      <td>Liophis problematicus, new species</td>\n",
       "      <td>AMERICAN MUSEUM Novitates PUBLISHED BY THE AME...</td>\n",
       "      <td>Figures 1-6 HOLOTYPE: FMNH 64733, an adult mal...</td>\n",
       "      <td>FMNH 64733</td>\n",
       "      <td>31</td>\n",
       "    </tr>\n",
       "    <tr>\n",
       "      <th>1925</th>\n",
       "      <td>AMERICAN MUSEUM Novitates PUBLISHED BY THE AME...</td>\n",
       "      <td>DESCRIPTION</td>\n",
       "      <td>AMERICAN MUSEUM Novitates PUBLISHED BY THE AME...</td>\n",
       "      <td>The following examples are relevant: Thompson ...</td>\n",
       "      <td>AMNH 104667</td>\n",
       "      <td>31</td>\n",
       "    </tr>\n",
       "    <tr>\n",
       "      <th>1928</th>\n",
       "      <td>AMERICAN MUSEUM Novitates PUBLISHED BY THE AME...</td>\n",
       "      <td>DESCRIPTION</td>\n",
       "      <td>AMERICAN MUSEUM Novitates PUBLISHED BY THE AME...</td>\n",
       "      <td>The tips of most Conophis organs I examined ar...</td>\n",
       "      <td>AMNH 66337 UMMZ</td>\n",
       "      <td>31</td>\n",
       "    </tr>\n",
       "  </tbody>\n",
       "</table>\n",
       "</div>"
      ],
      "text/plain": [
       "                                                     Id  \\\n",
       "41                                        ,,,,,,,,,,,,,   \n",
       "708   The Smithsonian Institution African Mammal Pro...   \n",
       "1856  AMERICAN MUSEUM Novitates PUBLISHED BY THE AME...   \n",
       "1925  AMERICAN MUSEUM Novitates PUBLISHED BY THE AME...   \n",
       "1928  AMERICAN MUSEUM Novitates PUBLISHED BY THE AME...   \n",
       "\n",
       "                                        section_title  \\\n",
       "41               Isothrix barbarabrownae, new species   \n",
       "708   AMP and Earlier Smithsonian African Expeditions   \n",
       "1856               Liophis problematicus, new species   \n",
       "1925                                      DESCRIPTION   \n",
       "1928                                      DESCRIPTION   \n",
       "\n",
       "                                            paper_title  \\\n",
       "41                                                        \n",
       "708   The Smithsonian Institution African Mammal Pro...   \n",
       "1856  AMERICAN MUSEUM Novitates PUBLISHED BY THE AME...   \n",
       "1925  AMERICAN MUSEUM Novitates PUBLISHED BY THE AME...   \n",
       "1928  AMERICAN MUSEUM Novitates PUBLISHED BY THE AME...   \n",
       "\n",
       "                                                   sent  \\\n",
       "41    -MUSM 16819 (Museo de Historia Natural, Univer...   \n",
       "708   The 39 new forms so far issuing from the AMP (...   \n",
       "1856  Figures 1-6 HOLOTYPE: FMNH 64733, an adult mal...   \n",
       "1925  The following examples are relevant: Thompson ...   \n",
       "1928  The tips of most Conophis organs I examined ar...   \n",
       "\n",
       "            specimen_prediction  paper  \n",
       "41                        MUSM       0  \n",
       "708    USNM 470588 USNM 402309     169  \n",
       "1856                FMNH 64733      31  \n",
       "1925               AMNH 104667      31  \n",
       "1928           AMNH 66337 UMMZ      31  "
      ]
     },
     "execution_count": 33,
     "metadata": {},
     "output_type": "execute_result"
    }
   ],
   "source": [
    "predictions_ummz = df_ummz_sent[df_ummz_sent.specimen_prediction.notna()]\n",
    "predictions_ummz = predictions_ummz[predictions_ummz.Id.notna()]\n",
    "predictions_ummz['paper'] = predictions_ummz['Id'].astype(\"category\").cat.codes\n",
    "predictions_ummz['Id'] = predictions_ummz[['Id','paper','specimen_prediction']].groupby(['specimen_prediction','paper'])['Id'].transform(lambda x: ','.join(x))\n",
    "predictions_ummz.to_csv('../results/manual_predictions.csv',index=False)\n",
    "predictions_ummz.head()"
   ]
  },
  {
   "cell_type": "code",
   "execution_count": 34,
   "metadata": {},
   "outputs": [
    {
     "data": {
      "text/html": [
       "<div>\n",
       "<style scoped>\n",
       "    .dataframe tbody tr th:only-of-type {\n",
       "        vertical-align: middle;\n",
       "    }\n",
       "\n",
       "    .dataframe tbody tr th {\n",
       "        vertical-align: top;\n",
       "    }\n",
       "\n",
       "    .dataframe thead th {\n",
       "        text-align: right;\n",
       "    }\n",
       "</style>\n",
       "<table border=\"1\" class=\"dataframe\">\n",
       "  <thead>\n",
       "    <tr style=\"text-align: right;\">\n",
       "      <th>paper</th>\n",
       "      <th>0</th>\n",
       "      <th>1</th>\n",
       "      <th>2</th>\n",
       "      <th>3</th>\n",
       "      <th>4</th>\n",
       "      <th>5</th>\n",
       "      <th>6</th>\n",
       "      <th>7</th>\n",
       "      <th>8</th>\n",
       "      <th>9</th>\n",
       "      <th>...</th>\n",
       "      <th>184</th>\n",
       "      <th>185</th>\n",
       "      <th>186</th>\n",
       "      <th>187</th>\n",
       "      <th>188</th>\n",
       "      <th>189</th>\n",
       "      <th>190</th>\n",
       "      <th>191</th>\n",
       "      <th>192</th>\n",
       "      <th>All</th>\n",
       "    </tr>\n",
       "    <tr>\n",
       "      <th>specimen_prediction</th>\n",
       "      <th></th>\n",
       "      <th></th>\n",
       "      <th></th>\n",
       "      <th></th>\n",
       "      <th></th>\n",
       "      <th></th>\n",
       "      <th></th>\n",
       "      <th></th>\n",
       "      <th></th>\n",
       "      <th></th>\n",
       "      <th></th>\n",
       "      <th></th>\n",
       "      <th></th>\n",
       "      <th></th>\n",
       "      <th></th>\n",
       "      <th></th>\n",
       "      <th></th>\n",
       "      <th></th>\n",
       "      <th></th>\n",
       "      <th></th>\n",
       "      <th></th>\n",
       "    </tr>\n",
       "  </thead>\n",
       "  <tbody>\n",
       "    <tr>\n",
       "      <th></th>\n",
       "      <td>1</td>\n",
       "      <td>0</td>\n",
       "      <td>0</td>\n",
       "      <td>0</td>\n",
       "      <td>0</td>\n",
       "      <td>0</td>\n",
       "      <td>0</td>\n",
       "      <td>0</td>\n",
       "      <td>0</td>\n",
       "      <td>0</td>\n",
       "      <td>...</td>\n",
       "      <td>0</td>\n",
       "      <td>0</td>\n",
       "      <td>0</td>\n",
       "      <td>0</td>\n",
       "      <td>0</td>\n",
       "      <td>0</td>\n",
       "      <td>0</td>\n",
       "      <td>0</td>\n",
       "      <td>0</td>\n",
       "      <td>1</td>\n",
       "    </tr>\n",
       "    <tr>\n",
       "      <th>17 UMMZ</th>\n",
       "      <td>1</td>\n",
       "      <td>0</td>\n",
       "      <td>0</td>\n",
       "      <td>0</td>\n",
       "      <td>0</td>\n",
       "      <td>0</td>\n",
       "      <td>0</td>\n",
       "      <td>0</td>\n",
       "      <td>0</td>\n",
       "      <td>0</td>\n",
       "      <td>...</td>\n",
       "      <td>0</td>\n",
       "      <td>0</td>\n",
       "      <td>0</td>\n",
       "      <td>0</td>\n",
       "      <td>0</td>\n",
       "      <td>0</td>\n",
       "      <td>0</td>\n",
       "      <td>0</td>\n",
       "      <td>0</td>\n",
       "      <td>1</td>\n",
       "    </tr>\n",
       "    <tr>\n",
       "      <th>AJ251400</th>\n",
       "      <td>0</td>\n",
       "      <td>0</td>\n",
       "      <td>0</td>\n",
       "      <td>0</td>\n",
       "      <td>0</td>\n",
       "      <td>0</td>\n",
       "      <td>0</td>\n",
       "      <td>0</td>\n",
       "      <td>0</td>\n",
       "      <td>0</td>\n",
       "      <td>...</td>\n",
       "      <td>0</td>\n",
       "      <td>0</td>\n",
       "      <td>0</td>\n",
       "      <td>0</td>\n",
       "      <td>0</td>\n",
       "      <td>0</td>\n",
       "      <td>0</td>\n",
       "      <td>0</td>\n",
       "      <td>0</td>\n",
       "      <td>1</td>\n",
       "    </tr>\n",
       "    <tr>\n",
       "      <th>AK8207</th>\n",
       "      <td>0</td>\n",
       "      <td>0</td>\n",
       "      <td>0</td>\n",
       "      <td>0</td>\n",
       "      <td>0</td>\n",
       "      <td>0</td>\n",
       "      <td>0</td>\n",
       "      <td>0</td>\n",
       "      <td>0</td>\n",
       "      <td>0</td>\n",
       "      <td>...</td>\n",
       "      <td>0</td>\n",
       "      <td>0</td>\n",
       "      <td>0</td>\n",
       "      <td>0</td>\n",
       "      <td>0</td>\n",
       "      <td>0</td>\n",
       "      <td>0</td>\n",
       "      <td>0</td>\n",
       "      <td>0</td>\n",
       "      <td>1</td>\n",
       "    </tr>\n",
       "    <tr>\n",
       "      <th>AM</th>\n",
       "      <td>0</td>\n",
       "      <td>0</td>\n",
       "      <td>0</td>\n",
       "      <td>0</td>\n",
       "      <td>0</td>\n",
       "      <td>0</td>\n",
       "      <td>0</td>\n",
       "      <td>0</td>\n",
       "      <td>0</td>\n",
       "      <td>0</td>\n",
       "      <td>...</td>\n",
       "      <td>0</td>\n",
       "      <td>0</td>\n",
       "      <td>0</td>\n",
       "      <td>0</td>\n",
       "      <td>0</td>\n",
       "      <td>0</td>\n",
       "      <td>0</td>\n",
       "      <td>0</td>\n",
       "      <td>0</td>\n",
       "      <td>1</td>\n",
       "    </tr>\n",
       "  </tbody>\n",
       "</table>\n",
       "<p>5 rows × 194 columns</p>\n",
       "</div>"
      ],
      "text/plain": [
       "paper                0  1  2  3  4  5  6  7  8  9  ...  184  185  186  187  \\\n",
       "specimen_prediction                                ...                       \n",
       "                     1  0  0  0  0  0  0  0  0  0  ...    0    0    0    0   \n",
       " 17 UMMZ             1  0  0  0  0  0  0  0  0  0  ...    0    0    0    0   \n",
       " AJ251400            0  0  0  0  0  0  0  0  0  0  ...    0    0    0    0   \n",
       " AK8207              0  0  0  0  0  0  0  0  0  0  ...    0    0    0    0   \n",
       " AM                  0  0  0  0  0  0  0  0  0  0  ...    0    0    0    0   \n",
       "\n",
       "paper                188  189  190  191  192  All  \n",
       "specimen_prediction                                \n",
       "                       0    0    0    0    0    1  \n",
       " 17 UMMZ               0    0    0    0    0    1  \n",
       " AJ251400              0    0    0    0    0    1  \n",
       " AK8207                0    0    0    0    0    1  \n",
       " AM                    0    0    0    0    0    1  \n",
       "\n",
       "[5 rows x 194 columns]"
      ]
     },
     "execution_count": 34,
     "metadata": {},
     "output_type": "execute_result"
    }
   ],
   "source": [
    "predictions_ummz_dedup = predictions_ummz[['specimen_prediction','Id','paper']].drop_duplicates()\n",
    "cross_df = pd.crosstab(predictions_ummz_dedup.specimen_prediction, predictions_ummz_dedup.paper, margins=True, dropna=False)\n",
    "cross_df.to_csv('../results/manual_frequencies.csv')\n",
    "cross_df.head()"
   ]
  },
  {
   "cell_type": "code",
   "execution_count": null,
   "metadata": {},
   "outputs": [],
   "source": []
  }
 ],
 "metadata": {
  "kernelspec": {
   "display_name": "Python 3 (ipykernel)",
   "language": "python",
   "name": "python3"
  },
  "language_info": {
   "codemirror_mode": {
    "name": "ipython",
    "version": 3
   },
   "file_extension": ".py",
   "mimetype": "text/x-python",
   "name": "python",
   "nbconvert_exporter": "python",
   "pygments_lexer": "ipython3",
   "version": "3.9.7"
  }
 },
 "nbformat": 4,
 "nbformat_minor": 4
}
