{
 "cells": [
  {
   "cell_type": "markdown",
   "metadata": {},
   "source": [
    "# Auto NER \n",
    "Pipeline to detect specimen codes in article text\n",
    "\n",
    "* Sources: UMMZ papers\n",
    "* Labels: automatically extracted and verified with pattern matching\n",
    "\n",
    "Steps:\n",
    "1. **Make training data**: extract sentences matching upper/digit pattern to label\n",
    "2. **Train NER model**: apply labels to train transformer-based model to detect `SPECIMEN` entities\n",
    "3. **Apply NER model**: extract references to `SPECIMEN` entities in UMMZ Bibliography"
   ]
  },
  {
   "cell_type": "markdown",
   "metadata": {},
   "source": [
    "## 1. Make training data\n",
    "Prepare training data from UMMZ Bibliography. Does not require accelerator (GPU)."
   ]
  },
  {
   "cell_type": "code",
   "execution_count": 2,
   "metadata": {},
   "outputs": [],
   "source": [
    "import pandas as pd\n",
    "import numpy as np\n",
    "import matplotlib as plt\n",
    "import re\n",
    "import glob\n",
    "import random\n",
    "from random import sample\n",
    "import json\n",
    "# import jsonlines\n",
    "import pysbd\n",
    "seg = pysbd.Segmenter(language=\"en\", clean=False)\n",
    "import spacy\n",
    "from spacy.matcher import Matcher\n",
    "from spacy import displacy"
   ]
  },
  {
   "cell_type": "markdown",
   "metadata": {},
   "source": [
    "Define rule-based pattern (UPPER, DIGIT) to find sentences to label"
   ]
  },
  {
   "cell_type": "code",
   "execution_count": 2,
   "metadata": {},
   "outputs": [],
   "source": [
    "nlp = spacy.load(\"en_core_web_sm\")\n",
    "matcher = Matcher(nlp.vocab)\n",
    "pattern = [{'IS_UPPER': True}, {'IS_DIGIT': True}] # token sequence has uppercase followed by digit\n",
    "matcher.add(\"specimen_code\", [pattern])"
   ]
  },
  {
   "cell_type": "markdown",
   "metadata": {},
   "source": [
    "Helper functions for parsing json documents"
   ]
  },
  {
   "cell_type": "code",
   "execution_count": 3,
   "metadata": {},
   "outputs": [],
   "source": [
    "def clean_text(txt):\n",
    "    \"\"\"\n",
    "    Removes special characters, punctuation, and returns lowercase\n",
    "    \"\"\"\n",
    "    return re.sub('[^A-Za-z0-9]+', ' ', str(txt).lower())\n",
    "\n",
    "def clean_text2(txt):\n",
    "    \"\"\"\n",
    "    Removes special characters and punctuation\n",
    "    \"\"\"\n",
    "    return re.sub('[^A-Za-z0-9]+', ' ', str(txt))\n",
    "\n",
    "def alphanum(txt):\n",
    "    \"\"\"\n",
    "    Extracts alphanumeric characters without spaces\n",
    "    \"\"\"\n",
    "    return \"\".join(x.lower() for x in txt if x.isalnum())\n",
    "\n",
    "def extract_pat(search_str:str, search_list:str):\n",
    "    \"\"\"\n",
    "    Defines pattern to search for\n",
    "    \"\"\"\n",
    "    search_obj = re.search(search_list, search_str)\n",
    "    if search_obj:\n",
    "        return_str = search_str[search_obj.start(): search_obj.end()]\n",
    "    else:\n",
    "        return_str = \"None\"\n",
    "    return return_str\n",
    "\n",
    "def json2txt_df(json_file_path):\n",
    "    \"\"\"\n",
    "    Extract body text of json file\n",
    "    \"\"\"\n",
    "    with open(json_file_path, 'r') as f:\n",
    "        data = json.loads(f.read())\n",
    "        body_text_df = pd.json_normalize(data[\"pdf_parse\"][\"body_text\"])\n",
    "    \n",
    "    return body_text_df\n",
    "\n",
    "def df2sentences(df):\n",
    "    \"\"\"\n",
    "    Tokenize and clean sentences\n",
    "    \"\"\"\n",
    "    sentences_text = \" \".join(list(df.text)) \n",
    "    pattern_brackets = re.compile(r'\\(.*?\\)')\n",
    "    sentences_text = re.sub(pattern_brackets, \"\", sentences_text) \n",
    "    sentences = seg.segment(sentences_text) \n",
    "    sentences = [re.sub(r\"^\\W+\", \"\", sentence) for sentence in sentences] \n",
    "    sentences = [re.sub(r\"\\s+\", \" \", sentence) for sentence in sentences]\n",
    "    return sentences\n",
    "\n",
    "def prep_data(json_file_path, ref_id):\n",
    "    \"\"\"\n",
    "    Return sentence lists for matches\n",
    "    \"\"\"\n",
    "    body_text_df = json2txt_df(json_file_path)\n",
    "    sentences = df2sentences(body_text_df)\n",
    "    candidates = []\n",
    "    for sentence in sentences:\n",
    "        doc = nlp(sentence)\n",
    "        matches = matcher(doc)\n",
    "        if len(matches) > 0:\n",
    "            sentence_dict = {\"text\":sentence,\n",
    "                             \"meta\":{\"ref_id\":str(ref_id)}}\n",
    "            candidates.append(sentence_dict)    \n",
    "    return candidates"
   ]
  },
  {
   "cell_type": "markdown",
   "metadata": {},
   "source": [
    "Project directories\n",
    "- Articles in UMMZ Bibliography (646 papers, 45% as of May 17, 2022)"
   ]
  },
  {
   "cell_type": "code",
   "execution_count": 4,
   "metadata": {},
   "outputs": [],
   "source": [
    "# papers_path = \"/nfs/turbo/isr-slafia/specimen/may_zotero_ummz_out/\"\n",
    "# save_path = \"/nfs/turbo/isr-slafia/specimen/may_zotero_ummz_sents/\""
   ]
  },
  {
   "cell_type": "markdown",
   "metadata": {},
   "source": [
    "Check each sentence for pattern. If it matches, get the sentence and file name. "
   ]
  },
  {
   "cell_type": "code",
   "execution_count": 5,
   "metadata": {
    "scrolled": true
   },
   "outputs": [
    {
     "name": "stdout",
     "output_type": "stream",
     "text": [
      "Searching 828 papers for specimen codes\n"
     ]
    }
   ],
   "source": [
    "# %%time\n",
    "\n",
    "bib_files = sorted(glob.glob('../papers/*.json'))\n",
    "print(f\"Searching {len(bib_files)} papers for specimen codes\")\n",
    "\n",
    "# for bib_file in bib_files:\n",
    "#     ref_id = bib_file.split(\"/\")[-1].split(\"-\")[0]\n",
    "#     try: \n",
    "#         sentence_dicts_list = prep_data(bib_file, ref_id)\n",
    "#         print(ref_id) # show file name for the match\n",
    "#         with jsonlines.open(save_path+'/ummz_pattern_matching_20220705.jsonl', 'a') as writer:\n",
    "#             writer.write_all(sentence_dicts_list)\n",
    "#     except:\n",
    "#         0"
   ]
  },
  {
   "cell_type": "markdown",
   "metadata": {},
   "source": [
    "Export matching sentences and metadata (source file name) for labeling offline\n",
    "* It took 2 hours to label 1,010/3,953 sentences on a local machine\n",
    "* Labeling rules:\n",
    "    * Accept (positive): entity is a specimen code\n",
    "    * Accept (negative): entity is not a specimen code\n",
    "    * Ignored: sentence is malformed, not enough context for training\n",
    "* Sources of confusion:\n",
    "    * software, sequencing techniques (ABI3700), state/postal codes, p values (P2), null hypothesis (H0), compounds (CO2), grant numbers, coordinate reference system (WGS84), dates (AD1200), legislation (HB117), metadata (ISO2788)\n",
    "    * spans or compound codes (TMM 45947-506 and -510)\n",
    "    * tokenization and sentence fragments from scientific notation\n",
    "    * unlikely documents in bibliography (Advances in Computation… President’s Comments and Report…)\n",
    "* Approach: [Manual NER in Prodigy](https://prodi.gy/docs/recipes#ner-manual) labeling using a pattern template\n",
    "    * Pattern template: {\"label\": \"SPECIMEN\", \"pattern\": [{\"is_upper\": true}, {\"is_digit\": true}]}\n",
    "    * Prodigy recipe: prodigy ner.manual ummz_v1 en_core_web_sm ./ummz_pattern_matching.jsonl --label SPECIMEN --patterns ./specimen_pattern_V1.jsonl\n",
    "    * Export training/dev data from Prodigy: prodigy data-to-spacy train --ner ummz_v1"
   ]
  },
  {
   "cell_type": "code",
   "execution_count": 6,
   "metadata": {},
   "outputs": [
    {
     "name": "stdout",
     "output_type": "stream",
     "text": [
      "Candidate sentences found: 3953\n",
      "Term fraction - UMMZ: 0.020798420276308207\n",
      "Term fraction - specimen: 0.3158013009770476\n",
      "Term fraction - fossil: 0.08438899261536549\n",
      "Term fraction - occurrence: 0.018407797256042895\n"
     ]
    }
   ],
   "source": [
    "training_data = open('../labels/auto/ummz_pattern_matching.jsonl')\n",
    "read_data = training_data.read()\n",
    "per_word = read_data.split()\n",
    "\n",
    "print('Candidate sentences found:', sum(1 for line in open('../labels/auto/ummz_pattern_matching.jsonl')))\n",
    "print('Term fraction - UMMZ:', (read_data.count(\"UMMZ\")/len(per_word))*100)\n",
    "print('Term fraction - specimen:', (read_data.count(\"specimen\")/len(per_word))*100)\n",
    "print('Term fraction - fossil:', (read_data.count(\"fossil\")/len(per_word))*100)\n",
    "print('Term fraction - occurrence:', (read_data.count(\"occurrence\")/len(per_word))*100)"
   ]
  },
  {
   "cell_type": "markdown",
   "metadata": {},
   "source": [
    "## 2. Train NER model to detect custom entity\n",
    "Detect `SPECIMEN` using [spaCy](https://spacy.io/usage/embeddings-transformers). Requires accelerator (used GPU: cuda/11.2.1)"
   ]
  },
  {
   "cell_type": "code",
   "execution_count": 7,
   "metadata": {},
   "outputs": [],
   "source": [
    "import spacy"
   ]
  },
  {
   "cell_type": "code",
   "execution_count": 8,
   "metadata": {},
   "outputs": [
    {
     "name": "stdout",
     "output_type": "stream",
     "text": [
      "3.3.1\n"
     ]
    }
   ],
   "source": [
    "print(spacy.__version__)"
   ]
  },
  {
   "cell_type": "code",
   "execution_count": 9,
   "metadata": {},
   "outputs": [],
   "source": [
    "spacy.require_gpu()"
   ]
  },
  {
   "cell_type": "markdown",
   "metadata": {},
   "source": [
    "## Train and save NER model\n",
    "Use command-line interface (CLI) so program sources spaCy correctly"
   ]
  },
  {
   "cell_type": "code",
   "execution_count": 10,
   "metadata": {},
   "outputs": [],
   "source": [
    "# !python -m spacy train ../models/config.cfg --output ../models/auto/ --paths.train ../models/auto/train.spacy --paths.dev ../models/auto/dev.spacy --gpu-id 0"
   ]
  },
  {
   "cell_type": "markdown",
   "metadata": {},
   "source": [
    "## 3. Apply NER model\n",
    "Apply current best NER model to all UMMZ papers collected so far"
   ]
  },
  {
   "cell_type": "code",
   "execution_count": 4,
   "metadata": {},
   "outputs": [],
   "source": [
    "# from thinc.api import set_gpu_allocator, require_gpu\n",
    "# set_gpu_allocator(\"pytorch\")\n",
    "# require_gpu(0)"
   ]
  },
  {
   "cell_type": "code",
   "execution_count": 7,
   "metadata": {},
   "outputs": [],
   "source": [
    "# spacy.prefer_gpu()"
   ]
  },
  {
   "cell_type": "code",
   "execution_count": 13,
   "metadata": {},
   "outputs": [],
   "source": [
    "custom_ner_model = spacy.load(\"../models/auto/model-best/\")"
   ]
  },
  {
   "cell_type": "code",
   "execution_count": 14,
   "metadata": {},
   "outputs": [
    {
     "name": "stdout",
     "output_type": "stream",
     "text": [
      "Looking for SPECIMEN entities in 828 UMMZ papers\n"
     ]
    },
    {
     "name": "stderr",
     "output_type": "stream",
     "text": [
      "/sw/arcts/centos7/python/3.9.7/pytorch/1.10.2/lib/python3.9/site-packages/torch/autocast_mode.py:141: UserWarning: User provided device_type of 'cuda', but CUDA is not available. Disabling\n",
      "  warnings.warn('User provided device_type of \\'cuda\\', but CUDA is not available. Disabling')\n"
     ]
    },
    {
     "name": "stdout",
     "output_type": "stream",
     "text": [
      "CPU times: user 8h 38min 7s, sys: 1min 59s, total: 8h 40min 6s\n",
      "Wall time: 17h 23min 14s\n"
     ]
    },
    {
     "data": {
      "text/plain": [
       " AL 288                     75\n",
       " NO                         67\n",
       " AMNH                       31\n",
       " PAUP                       26\n",
       " TXNM                       26\n",
       "                            ..\n",
       " AMNH 46627 AMNH 46643       1\n",
       " AMNH 46629                  1\n",
       " FMNH 43246 BMNH 54 553      1\n",
       " FMNH 43251                  1\n",
       " ELK1                        1\n",
       "Name: specimen_prediction, Length: 3998, dtype: int64"
      ]
     },
     "execution_count": 14,
     "metadata": {},
     "output_type": "execute_result"
    }
   ],
   "source": [
    "%%time\n",
    "\n",
    "ummz_papers = glob.glob('../papers/*.json')\n",
    "print(f\"Looking for SPECIMEN entities in {len(ummz_papers)} UMMZ papers\")\n",
    "\n",
    "df_test_pubs = pd.DataFrame()\n",
    "for test_file in ummz_papers:\n",
    "    with open(test_file, 'r') as f:\n",
    "        data = json.loads(f.read())\n",
    "        file_data = pd.json_normalize(data[\"pdf_parse\"][\"body_text\"])\n",
    "        file_data[\"paper_id\"] = data[\"title\"]\n",
    "    df_test_pubs = pd.concat([df_test_pubs, file_data])\n",
    "\n",
    "ummz_sentences = []\n",
    "\n",
    "for row in df_test_pubs.itertuples():\n",
    "    for sent in seg.segment(row[1]):\n",
    "        ummz_sentences.append((row[7], row[5], row[7], sent))\n",
    "        \n",
    "df_ummz_sent = pd.DataFrame(ummz_sentences, columns=['Id', 'section_title', 'paper_title', 'sent'])\n",
    "df_ummz_sent['sent'] = df_ummz_sent['sent'].astype(str)\n",
    "\n",
    "def extract_ents(text):\n",
    "    \"\"\"\n",
    "    Extract named entities, and beginning, middle and end idx     \n",
    "    \"\"\"\n",
    "    doc = custom_ner_model(text)\n",
    "    if len(doc.ents) > 0:\n",
    "        return clean_text2(doc.ents)\n",
    "    else:\n",
    "        return None\n",
    "\n",
    "def predict_ents(df):\n",
    "    \"\"\"\n",
    "    Create new column in data frame with named entity tuple extracted\n",
    "    \"\"\"\n",
    "    df_ummz_sent['specimen_prediction'] = df_ummz_sent['sent'].apply(extract_ents)\n",
    "    \n",
    "predict_ents(df_ummz_sent)\n",
    "\n",
    "df_ummz_sent['specimen_prediction'].value_counts().sort_values(ascending=False)\n"
   ]
  },
  {
   "cell_type": "markdown",
   "metadata": {},
   "source": [
    "Demonstrate model predictions with a randomly sampled paper in the UMMZ bibliography"
   ]
  },
  {
   "cell_type": "code",
   "execution_count": 15,
   "metadata": {},
   "outputs": [
    {
     "name": "stdout",
     "output_type": "stream",
     "text": [
      "Searching for SPECIMEN entities in paper: Sancha2012_Article_SystematicsOfTheSubgenusOfMous.json\n"
     ]
    },
    {
     "name": "stderr",
     "output_type": "stream",
     "text": [
      "/sw/arcts/centos7/python/3.9.7/pytorch/1.10.2/lib/python3.9/site-packages/torch/autocast_mode.py:141: UserWarning: User provided device_type of 'cuda', but CUDA is not available. Disabling\n",
      "  warnings.warn('User provided device_type of \\'cuda\\', but CUDA is not available. Disabling')\n"
     ]
    },
    {
     "data": {
      "text/html": [
       "<span class=\"tex2jax_ignore\"><div class=\"entities\" style=\"line-height: 2.5; direction: ltr\">Haplotype \n",
       "<mark class=\"entity\" style=\"background: #ddd; padding: 0.45em 0.6em; margin: 0 0.25em; line-height: 1; border-radius: 0.35em;\">\n",
       "    U34673 is\n",
       "    <span style=\"font-size: 0.8em; font-weight: bold; line-height: 1; border-radius: 0.35em; vertical-align: middle; margin-left: 0.5rem\">SPECIMEN</span>\n",
       "</mark>\n",
       " highly divergent from all others studied </div></span>"
      ],
      "text/plain": [
       "<IPython.core.display.HTML object>"
      ]
     },
     "metadata": {},
     "output_type": "display_data"
    },
    {
     "data": {
      "text/html": [
       "<span class=\"tex2jax_ignore\"><div class=\"entities\" style=\"line-height: 2.5; direction: ltr\">Placement of haplotypes recovered from Paraguayan specimens is unambiguous and congruent with morphology \n",
       "<mark class=\"entity\" style=\"background: #ddd; padding: 0.45em 0.6em; margin: 0 0.25em; line-height: 1; border-radius: 0.35em;\">\n",
       "    MSB 67000\n",
       "    <span style=\"font-size: 0.8em; font-weight: bold; line-height: 1; border-radius: 0.35em; vertical-align: middle; margin-left: 0.5rem\">SPECIMEN</span>\n",
       "</mark>\n",
       " falls in the constantiae clade while \n",
       "<mark class=\"entity\" style=\"background: #ddd; padding: 0.45em 0.6em; margin: 0 0.25em; line-height: 1; border-radius: 0.35em;\">\n",
       "    FMNH 211414\n",
       "    <span style=\"font-size: 0.8em; font-weight: bold; line-height: 1; border-radius: 0.35em; vertical-align: middle; margin-left: 0.5rem\">SPECIMEN</span>\n",
       "</mark>\n",
       " \n",
       "<mark class=\"entity\" style=\"background: #ddd; padding: 0.45em 0.6em; margin: 0 0.25em; line-height: 1; border-radius: 0.35em;\">\n",
       "    FMNH 211415\n",
       "    <span style=\"font-size: 0.8em; font-weight: bold; line-height: 1; border-radius: 0.35em; vertical-align: middle; margin-left: 0.5rem\">SPECIMEN</span>\n",
       "</mark>\n",
       " \n",
       "<mark class=\"entity\" style=\"background: #ddd; padding: 0.45em 0.6em; margin: 0 0.25em; line-height: 1; border-radius: 0.35em;\">\n",
       "    TK 129479\n",
       "    <span style=\"font-size: 0.8em; font-weight: bold; line-height: 1; border-radius: 0.35em; vertical-align: middle; margin-left: 0.5rem\">SPECIMEN</span>\n",
       "</mark>\n",
       " and \n",
       "<mark class=\"entity\" style=\"background: #ddd; padding: 0.45em 0.6em; margin: 0 0.25em; line-height: 1; border-radius: 0.35em;\">\n",
       "    TK 129697\n",
       "    <span style=\"font-size: 0.8em; font-weight: bold; line-height: 1; border-radius: 0.35em; vertical-align: middle; margin-left: 0.5rem\">SPECIMEN</span>\n",
       "</mark>\n",
       " fall in the paraguayana clade </div></span>"
      ],
      "text/plain": [
       "<IPython.core.display.HTML object>"
      ]
     },
     "metadata": {},
     "output_type": "display_data"
    },
    {
     "data": {
      "text/html": [
       "<span class=\"tex2jax_ignore\"><div class=\"entities\" style=\"line-height: 2.5; direction: ltr\">Contreras reported a specimen identified as Marmosa cinerea paraguayana from Puerto Bouvier \n",
       "<mark class=\"entity\" style=\"background: #ddd; padding: 0.45em 0.6em; margin: 0 0.25em; line-height: 1; border-radius: 0.35em;\">\n",
       "    AR11 although\n",
       "    <span style=\"font-size: 0.8em; font-weight: bold; line-height: 1; border-radius: 0.35em; vertical-align: middle; margin-left: 0.5rem\">SPECIMEN</span>\n",
       "</mark>\n",
       " the specimen tag reads Clorinda Formosa </div></span>"
      ],
      "text/plain": [
       "<IPython.core.display.HTML object>"
      ]
     },
     "metadata": {},
     "output_type": "display_data"
    },
    {
     "data": {
      "text/html": [
       "<span class=\"tex2jax_ignore\"><div class=\"entities\" style=\"line-height: 2.5; direction: ltr\">Age W TL T HF E ZB LIB NB CBL PL PB MTL LM M1 3 M4 \n",
       "<mark class=\"entity\" style=\"background: #ddd; padding: 0.45em 0.6em; margin: 0 0.25em; line-height: 1; border-radius: 0.35em;\">\n",
       "    MNHNP 1659\n",
       "    <span style=\"font-size: 0.8em; font-weight: bold; line-height: 1; border-radius: 0.35em; vertical-align: middle; margin-left: 0.5rem\">SPECIMEN</span>\n",
       "</mark>\n",
       " 50 220 135 25 23 \n",
       "<mark class=\"entity\" style=\"background: #ddd; padding: 0.45em 0.6em; margin: 0 0.25em; line-height: 1; border-radius: 0.35em;\">\n",
       "    MNHNP 1660\n",
       "    <span style=\"font-size: 0.8em; font-weight: bold; line-height: 1; border-radius: 0.35em; vertical-align: middle; margin-left: 0.5rem\">SPECIMEN</span>\n",
       "</mark>\n",
       " 30 305 145 21 20 \n",
       "<mark class=\"entity\" style=\"background: #ddd; padding: 0.45em 0.6em; margin: 0 0.25em; line-height: 1; border-radius: 0.35em;\">\n",
       "    MNHNP 0481\n",
       "    <span style=\"font-size: 0.8em; font-weight: bold; line-height: 1; border-radius: 0.35em; vertical-align: middle; margin-left: 0.5rem\">SPECIMEN</span>\n",
       "</mark>\n",
       " 6 57 352 213 26 23 20 7 7 37 20 5 12 2 15 5 7 7 6 6 \n",
       "<mark class=\"entity\" style=\"background: #ddd; padding: 0.45em 0.6em; margin: 0 0.25em; line-height: 1; border-radius: 0.35em;\">\n",
       "    MNHNP 121795\n",
       "    <span style=\"font-size: 0.8em; font-weight: bold; line-height: 1; border-radius: 0.35em; vertical-align: middle; margin-left: 0.5rem\">SPECIMEN</span>\n",
       "</mark>\n",
       " 7 73 412 213 28 27 MNHNP measurements and characteristics </div></span>"
      ],
      "text/plain": [
       "<IPython.core.display.HTML object>"
      ]
     },
     "metadata": {},
     "output_type": "display_data"
    },
    {
     "data": {
      "text/html": [
       "<span class=\"tex2jax_ignore\"><div class=\"entities\" style=\"line-height: 2.5; direction: ltr\">Haplotype \n",
       "<mark class=\"entity\" style=\"background: #ddd; padding: 0.45em 0.6em; margin: 0 0.25em; line-height: 1; border-radius: 0.35em;\">\n",
       "    U34673 is\n",
       "    <span style=\"font-size: 0.8em; font-weight: bold; line-height: 1; border-radius: 0.35em; vertical-align: middle; margin-left: 0.5rem\">SPECIMEN</span>\n",
       "</mark>\n",
       " highly divergent from all others studied raising the possibility that the specimen from which it was recovered represents a distinct species of those studied here </div></span>"
      ],
      "text/plain": [
       "<IPython.core.display.HTML object>"
      ]
     },
     "metadata": {},
     "output_type": "display_data"
    },
    {
     "name": "stdout",
     "output_type": "stream",
     "text": [
      "CPU times: user 13.8 s, sys: 26 ms, total: 13.9 s\n",
      "Wall time: 27.8 s\n"
     ]
    }
   ],
   "source": [
    "%%time\n",
    "\n",
    "papers_sample = random.sample(ummz_papers, 1)\n",
    "\n",
    "for file in papers_sample:\n",
    "    ref_id = file.split(\"/\")[-1].split(\"-\")[0]\n",
    "    print(f\"Searching for SPECIMEN entities in paper: {ref_id}\")\n",
    "    body_text_df = json2txt_df(file)\n",
    "    sentence_list = df2sentences(body_text_df)\n",
    "    for sentence in sentence_list:\n",
    "        clean_sent = clean_text2(sentence)\n",
    "        doc = custom_ner_model(clean_sent)\n",
    "        if len(doc.ents) > 0:\n",
    "            displacy.render(doc, style=\"ent\", jupyter=True)"
   ]
  },
  {
   "cell_type": "markdown",
   "metadata": {},
   "source": [
    "Top, unique entities across papers in available papers in UMMZ Bibliogrpahy"
   ]
  },
  {
   "cell_type": "code",
   "execution_count": 18,
   "metadata": {},
   "outputs": [
    {
     "data": {
      "image/png": "[encoded data removed]",
      "text/plain": [
       "<Figure size 1440x720 with 1 Axes>"
      ]
     },
     "metadata": {
      "needs_background": "light"
     },
     "output_type": "display_data"
    }
   ],
   "source": [
    "ax = df_ummz_sent['specimen_prediction'].value_counts().nlargest(50).sort_values().plot(kind='barh',figsize=(20,10))\n",
    "# ax.figure.savefig('../results/auto_count.png', dpi=300)\n"
   ]
  },
  {
   "cell_type": "code",
   "execution_count": 19,
   "metadata": {},
   "outputs": [
    {
     "data": {
      "text/plain": [
       "3999"
      ]
     },
     "execution_count": 19,
     "metadata": {},
     "output_type": "execute_result"
    }
   ],
   "source": [
    "ummz_unique_codes = set(df_ummz_sent['specimen_prediction'].unique())\n",
    "len(ummz_unique_codes)\n"
   ]
  },
  {
   "cell_type": "code",
   "execution_count": 20,
   "metadata": {},
   "outputs": [
    {
     "data": {
      "text/html": [
       "<div>\n",
       "<style scoped>\n",
       "    .dataframe tbody tr th:only-of-type {\n",
       "        vertical-align: middle;\n",
       "    }\n",
       "\n",
       "    .dataframe tbody tr th {\n",
       "        vertical-align: top;\n",
       "    }\n",
       "\n",
       "    .dataframe thead th {\n",
       "        text-align: right;\n",
       "    }\n",
       "</style>\n",
       "<table border=\"1\" class=\"dataframe\">\n",
       "  <thead>\n",
       "    <tr style=\"text-align: right;\">\n",
       "      <th></th>\n",
       "      <th>Id</th>\n",
       "      <th>section_title</th>\n",
       "      <th>paper_title</th>\n",
       "      <th>sent</th>\n",
       "      <th>specimen_prediction</th>\n",
       "      <th>paper</th>\n",
       "    </tr>\n",
       "  </thead>\n",
       "  <tbody>\n",
       "    <tr>\n",
       "      <th>41</th>\n",
       "      <td></td>\n",
       "      <td>Isothrix barbarabrownae, new species</td>\n",
       "      <td></td>\n",
       "      <td>-MUSM 16819 (Museo de Historia Natural, Univer...</td>\n",
       "      <td>MUSM 16819</td>\n",
       "      <td>0</td>\n",
       "    </tr>\n",
       "    <tr>\n",
       "      <th>170</th>\n",
       "      <td>The Smithsonian Institution African Mammal Pro...</td>\n",
       "      <td></td>\n",
       "      <td>The Smithsonian Institution African Mammal Pro...</td>\n",
       "      <td>NMNH voucher specimens of Rodentia resulting f...</td>\n",
       "      <td>NMNH voucher specimens</td>\n",
       "      <td>313</td>\n",
       "    </tr>\n",
       "    <tr>\n",
       "      <th>173</th>\n",
       "      <td>The Smithsonian Institution African Mammal Pro...</td>\n",
       "      <td></td>\n",
       "      <td>The Smithsonian Institution African Mammal Pro...</td>\n",
       "      <td>5. NMNH voucher specimens of Chiroptera result...</td>\n",
       "      <td>NMNH voucher</td>\n",
       "      <td>313</td>\n",
       "    </tr>\n",
       "    <tr>\n",
       "      <th>203</th>\n",
       "      <td>The Smithsonian Institution African Mammal Pro...</td>\n",
       "      <td>Data Sources and General Format of the Gazetteer</td>\n",
       "      <td>The Smithsonian Institution African Mammal Pro...</td>\n",
       "      <td>The project started in 1969, one of the earlie...</td>\n",
       "      <td>SELGEM SELGEM 1988</td>\n",
       "      <td>313</td>\n",
       "    </tr>\n",
       "    <tr>\n",
       "      <th>334</th>\n",
       "      <td>The Smithsonian Institution African Mammal Pro...</td>\n",
       "      <td>ACKNOWLEDGMENTS</td>\n",
       "      <td>The Smithsonian Institution African Mammal Pro...</td>\n",
       "      <td>Several former AMP collectors-Ron E. Cole, Ric...</td>\n",
       "      <td>AMP collectors</td>\n",
       "      <td>313</td>\n",
       "    </tr>\n",
       "  </tbody>\n",
       "</table>\n",
       "</div>"
      ],
      "text/plain": [
       "                                                    Id  \\\n",
       "41                                                       \n",
       "170  The Smithsonian Institution African Mammal Pro...   \n",
       "173  The Smithsonian Institution African Mammal Pro...   \n",
       "203  The Smithsonian Institution African Mammal Pro...   \n",
       "334  The Smithsonian Institution African Mammal Pro...   \n",
       "\n",
       "                                        section_title  \\\n",
       "41               Isothrix barbarabrownae, new species   \n",
       "170                                                     \n",
       "173                                                     \n",
       "203  Data Sources and General Format of the Gazetteer   \n",
       "334                                   ACKNOWLEDGMENTS   \n",
       "\n",
       "                                           paper_title  \\\n",
       "41                                                       \n",
       "170  The Smithsonian Institution African Mammal Pro...   \n",
       "173  The Smithsonian Institution African Mammal Pro...   \n",
       "203  The Smithsonian Institution African Mammal Pro...   \n",
       "334  The Smithsonian Institution African Mammal Pro...   \n",
       "\n",
       "                                                  sent  \\\n",
       "41   -MUSM 16819 (Museo de Historia Natural, Univer...   \n",
       "170  NMNH voucher specimens of Rodentia resulting f...   \n",
       "173  5. NMNH voucher specimens of Chiroptera result...   \n",
       "203  The project started in 1969, one of the earlie...   \n",
       "334  Several former AMP collectors-Ron E. Cole, Ric...   \n",
       "\n",
       "          specimen_prediction  paper  \n",
       "41                MUSM 16819       0  \n",
       "170   NMNH voucher specimens     313  \n",
       "173             NMNH voucher     313  \n",
       "203       SELGEM SELGEM 1988     313  \n",
       "334           AMP collectors     313  "
      ]
     },
     "execution_count": 20,
     "metadata": {},
     "output_type": "execute_result"
    }
   ],
   "source": [
    "predictions_ummz = df_ummz_sent[df_ummz_sent.specimen_prediction.notna()]\n",
    "predictions_ummz = predictions_ummz[predictions_ummz.Id.notna()]\n",
    "predictions_ummz['paper'] = predictions_ummz['Id'].astype(\"category\").cat.codes\n",
    "\n",
    "predictions_ummz['Id'] = predictions_ummz[['Id','paper','specimen_prediction']].groupby(['specimen_prediction','paper'])['Id'].transform(lambda x: ','.join(x))\n",
    "predictions_ummz.to_csv('../results/auto_predictions.csv',index=False)\n",
    "predictions_ummz.head()"
   ]
  },
  {
   "cell_type": "code",
   "execution_count": 21,
   "metadata": {},
   "outputs": [
    {
     "data": {
      "text/html": [
       "<div>\n",
       "<style scoped>\n",
       "    .dataframe tbody tr th:only-of-type {\n",
       "        vertical-align: middle;\n",
       "    }\n",
       "\n",
       "    .dataframe tbody tr th {\n",
       "        vertical-align: top;\n",
       "    }\n",
       "\n",
       "    .dataframe thead th {\n",
       "        text-align: right;\n",
       "    }\n",
       "</style>\n",
       "<table border=\"1\" class=\"dataframe\">\n",
       "  <thead>\n",
       "    <tr style=\"text-align: right;\">\n",
       "      <th>paper</th>\n",
       "      <th>0</th>\n",
       "      <th>1</th>\n",
       "      <th>2</th>\n",
       "      <th>3</th>\n",
       "      <th>4</th>\n",
       "      <th>5</th>\n",
       "      <th>6</th>\n",
       "      <th>7</th>\n",
       "      <th>8</th>\n",
       "      <th>9</th>\n",
       "      <th>...</th>\n",
       "      <th>350</th>\n",
       "      <th>351</th>\n",
       "      <th>352</th>\n",
       "      <th>353</th>\n",
       "      <th>354</th>\n",
       "      <th>355</th>\n",
       "      <th>356</th>\n",
       "      <th>357</th>\n",
       "      <th>358</th>\n",
       "      <th>All</th>\n",
       "    </tr>\n",
       "    <tr>\n",
       "      <th>specimen_prediction</th>\n",
       "      <th></th>\n",
       "      <th></th>\n",
       "      <th></th>\n",
       "      <th></th>\n",
       "      <th></th>\n",
       "      <th></th>\n",
       "      <th></th>\n",
       "      <th></th>\n",
       "      <th></th>\n",
       "      <th></th>\n",
       "      <th></th>\n",
       "      <th></th>\n",
       "      <th></th>\n",
       "      <th></th>\n",
       "      <th></th>\n",
       "      <th></th>\n",
       "      <th></th>\n",
       "      <th></th>\n",
       "      <th></th>\n",
       "      <th></th>\n",
       "      <th></th>\n",
       "    </tr>\n",
       "  </thead>\n",
       "  <tbody>\n",
       "    <tr>\n",
       "      <th>13O 37</th>\n",
       "      <td>0</td>\n",
       "      <td>0</td>\n",
       "      <td>0</td>\n",
       "      <td>0</td>\n",
       "      <td>0</td>\n",
       "      <td>0</td>\n",
       "      <td>0</td>\n",
       "      <td>0</td>\n",
       "      <td>0</td>\n",
       "      <td>0</td>\n",
       "      <td>...</td>\n",
       "      <td>0</td>\n",
       "      <td>0</td>\n",
       "      <td>0</td>\n",
       "      <td>0</td>\n",
       "      <td>0</td>\n",
       "      <td>0</td>\n",
       "      <td>0</td>\n",
       "      <td>0</td>\n",
       "      <td>0</td>\n",
       "      <td>1</td>\n",
       "    </tr>\n",
       "    <tr>\n",
       "      <th>14 AKKXI Alet t</th>\n",
       "      <td>0</td>\n",
       "      <td>0</td>\n",
       "      <td>0</td>\n",
       "      <td>0</td>\n",
       "      <td>0</td>\n",
       "      <td>0</td>\n",
       "      <td>0</td>\n",
       "      <td>0</td>\n",
       "      <td>0</td>\n",
       "      <td>0</td>\n",
       "      <td>...</td>\n",
       "      <td>0</td>\n",
       "      <td>0</td>\n",
       "      <td>0</td>\n",
       "      <td>0</td>\n",
       "      <td>0</td>\n",
       "      <td>0</td>\n",
       "      <td>0</td>\n",
       "      <td>0</td>\n",
       "      <td>0</td>\n",
       "      <td>1</td>\n",
       "    </tr>\n",
       "    <tr>\n",
       "      <th>171408</th>\n",
       "      <td>0</td>\n",
       "      <td>0</td>\n",
       "      <td>0</td>\n",
       "      <td>0</td>\n",
       "      <td>0</td>\n",
       "      <td>0</td>\n",
       "      <td>0</td>\n",
       "      <td>0</td>\n",
       "      <td>0</td>\n",
       "      <td>0</td>\n",
       "      <td>...</td>\n",
       "      <td>0</td>\n",
       "      <td>0</td>\n",
       "      <td>0</td>\n",
       "      <td>0</td>\n",
       "      <td>0</td>\n",
       "      <td>0</td>\n",
       "      <td>0</td>\n",
       "      <td>0</td>\n",
       "      <td>0</td>\n",
       "      <td>1</td>\n",
       "    </tr>\n",
       "    <tr>\n",
       "      <th>194816 specimens AMNH 95206 USNM 194785</th>\n",
       "      <td>0</td>\n",
       "      <td>0</td>\n",
       "      <td>0</td>\n",
       "      <td>0</td>\n",
       "      <td>0</td>\n",
       "      <td>0</td>\n",
       "      <td>0</td>\n",
       "      <td>0</td>\n",
       "      <td>0</td>\n",
       "      <td>0</td>\n",
       "      <td>...</td>\n",
       "      <td>0</td>\n",
       "      <td>0</td>\n",
       "      <td>0</td>\n",
       "      <td>0</td>\n",
       "      <td>0</td>\n",
       "      <td>0</td>\n",
       "      <td>0</td>\n",
       "      <td>0</td>\n",
       "      <td>0</td>\n",
       "      <td>1</td>\n",
       "    </tr>\n",
       "    <tr>\n",
       "      <th>2N 5</th>\n",
       "      <td>0</td>\n",
       "      <td>0</td>\n",
       "      <td>0</td>\n",
       "      <td>0</td>\n",
       "      <td>0</td>\n",
       "      <td>0</td>\n",
       "      <td>0</td>\n",
       "      <td>0</td>\n",
       "      <td>0</td>\n",
       "      <td>0</td>\n",
       "      <td>...</td>\n",
       "      <td>0</td>\n",
       "      <td>0</td>\n",
       "      <td>0</td>\n",
       "      <td>0</td>\n",
       "      <td>0</td>\n",
       "      <td>0</td>\n",
       "      <td>0</td>\n",
       "      <td>0</td>\n",
       "      <td>0</td>\n",
       "      <td>1</td>\n",
       "    </tr>\n",
       "  </tbody>\n",
       "</table>\n",
       "<p>5 rows × 360 columns</p>\n",
       "</div>"
      ],
      "text/plain": [
       "paper                                      0  1  2  3  4  5  6  7  8  9  ...  \\\n",
       "specimen_prediction                                                      ...   \n",
       " 13O 37                                    0  0  0  0  0  0  0  0  0  0  ...   \n",
       " 14 AKKXI Alet t                           0  0  0  0  0  0  0  0  0  0  ...   \n",
       " 171408                                    0  0  0  0  0  0  0  0  0  0  ...   \n",
       " 194816 specimens AMNH 95206 USNM 194785   0  0  0  0  0  0  0  0  0  0  ...   \n",
       " 2N 5                                      0  0  0  0  0  0  0  0  0  0  ...   \n",
       "\n",
       "paper                                      350  351  352  353  354  355  356  \\\n",
       "specimen_prediction                                                            \n",
       " 13O 37                                      0    0    0    0    0    0    0   \n",
       " 14 AKKXI Alet t                             0    0    0    0    0    0    0   \n",
       " 171408                                      0    0    0    0    0    0    0   \n",
       " 194816 specimens AMNH 95206 USNM 194785     0    0    0    0    0    0    0   \n",
       " 2N 5                                        0    0    0    0    0    0    0   \n",
       "\n",
       "paper                                      357  358  All  \n",
       "specimen_prediction                                       \n",
       " 13O 37                                      0    0    1  \n",
       " 14 AKKXI Alet t                             0    0    1  \n",
       " 171408                                      0    0    1  \n",
       " 194816 specimens AMNH 95206 USNM 194785     0    0    1  \n",
       " 2N 5                                        0    0    1  \n",
       "\n",
       "[5 rows x 360 columns]"
      ]
     },
     "execution_count": 21,
     "metadata": {},
     "output_type": "execute_result"
    }
   ],
   "source": [
    "predictions_ummz_dedup = predictions_ummz[['specimen_prediction','Id','paper']].drop_duplicates()\n",
    "cross_df = pd.crosstab(predictions_ummz_dedup.specimen_prediction, predictions_ummz_dedup.paper, margins=True, dropna=False)\n",
    "cross_df.to_csv('../results/auto_frequencies.csv')\n",
    "cross_df.head()"
   ]
  },
  {
   "cell_type": "code",
   "execution_count": null,
   "metadata": {},
   "outputs": [],
   "source": []
  }
 ],
 "metadata": {
  "kernelspec": {
   "display_name": "Python 3 (ipykernel)",
   "language": "python",
   "name": "python3"
  },
  "language_info": {
   "codemirror_mode": {
    "name": "ipython",
    "version": 3
   },
   "file_extension": ".py",
   "mimetype": "text/x-python",
   "name": "python",
   "nbconvert_exporter": "python",
   "pygments_lexer": "ipython3",
   "version": "3.9.7"
  }
 },
 "nbformat": 4,
 "nbformat_minor": 4
}
