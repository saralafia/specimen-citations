{
 "cells": [
  {
   "cell_type": "markdown",
   "metadata": {},
   "source": [
    "# UMMZ Results"
   ]
  },
  {
   "cell_type": "code",
   "execution_count": 1,
   "metadata": {
    "vscode": {
     "languageId": "python"
    }
   },
   "outputs": [],
   "source": [
    "import pandas as pd\n",
    "import numpy as np\n",
    "import re\n",
    "import glob\n",
    "import random\n",
    "from random import sample\n",
    "import json\n",
    "import jsonlines\n",
    "import pysbd\n",
    "seg = pysbd.Segmenter(language=\"en\", clean=False) # sentence segmenter\n",
    "import spacy\n",
    "from spacy import displacy"
   ]
  },
  {
   "cell_type": "code",
   "execution_count": 2,
   "metadata": {
    "vscode": {
     "languageId": "python"
    }
   },
   "outputs": [],
   "source": [
    "custom_ner_model = spacy.load(\"../../specimen-ner/output/model-best/\")"
   ]
  },
  {
   "cell_type": "code",
   "execution_count": 3,
   "metadata": {
    "vscode": {
     "languageId": "python"
    }
   },
   "outputs": [],
   "source": [
    "def json2txt_df(json_file_path):\n",
    "    \"\"\"\n",
    "    Extract body text of json file\n",
    "    \"\"\"\n",
    "    with open(json_file_path, 'r') as f:\n",
    "        data = json.loads(f.read())\n",
    "        body_text_df = pd.json_normalize(data[\"pdf_parse\"][\"body_text\"])\n",
    "    \n",
    "    return body_text_df\n",
    "\n",
    "def df2sentences(df):\n",
    "    \"\"\"\n",
    "    Tokenize and clean sentences\n",
    "    \"\"\"\n",
    "    sentences_text = \" \".join(list(df.text)) \n",
    "    pattern_brackets = re.compile(r'\\(.*?\\)')\n",
    "    sentences_text = re.sub(pattern_brackets, \"\", sentences_text) \n",
    "    sentences = seg.segment(sentences_text) \n",
    "    sentences = [re.sub(r\"^\\W+\", \"\", sentence) for sentence in sentences] \n",
    "    sentences = [re.sub(r\"\\s+\", \" \", sentence) for sentence in sentences]\n",
    "    return sentences\n",
    "\n",
    "def prep_data(json_file_path, ref_id):\n",
    "    \"\"\"\n",
    "    Return sentence lists for matches\n",
    "    \"\"\"\n",
    "    body_text_df = json2txt_df(json_file_path)\n",
    "    sentences = df2sentences(body_text_df)\n",
    "    candidates = []\n",
    "    for sentence in sentences:\n",
    "        doc = nlp(sentence)\n",
    "        matches = matcher(doc)\n",
    "        if len(matches) > 0:\n",
    "            sentence_dict = {\"text\":sentence,\n",
    "                             \"meta\":{\"ref_id\":str(ref_id)}}\n",
    "            candidates.append(sentence_dict)    \n",
    "    return candidates\n",
    "\n",
    "def clean_text(txt):\n",
    "    \"\"\"\n",
    "    Removes special characters, punctuation, and returns lowercase\n",
    "    \"\"\"\n",
    "    return re.sub('[^A-Za-z0-9]+', ' ', str(txt).lower())\n",
    "\n",
    "def clean_text2(txt):\n",
    "    \"\"\"\n",
    "    Removes special characters and punctuation\n",
    "    \"\"\"\n",
    "    return re.sub('[^A-Za-z0-9]+', ' ', str(txt))\n",
    "\n",
    "def alphanum(txt):\n",
    "    \"\"\"\n",
    "    Extracts alphanumeric characters without spaces\n",
    "    \"\"\"\n",
    "    return \"\".join(x.lower() for x in txt if x.isalnum())\n",
    "\n",
    "def extract_pat(search_str:str, search_list:str):\n",
    "    \"\"\"\n",
    "    Defines pattern to search for\n",
    "    \"\"\"\n",
    "    search_obj = re.search(search_list, search_str)\n",
    "    if search_obj:\n",
    "        return_str = search_str[search_obj.start(): search_obj.end()]\n",
    "    else:\n",
    "        return_str = \"None\"\n",
    "    return return_str\n",
    "\n",
    "def extract_ents(text):\n",
    "    \"\"\"\n",
    "    Extract named entities, and beginning, middle and end idx     \n",
    "    \"\"\"\n",
    "    doc = custom_ner_model(text)\n",
    "    if len(doc.ents) > 0:\n",
    "        return clean_text2(doc.ents)\n",
    "    else:\n",
    "        return None\n",
    "\n",
    "def predict_ents(df):\n",
    "    \"\"\"\n",
    "    Create new column in data frame with named entity tuple extracted\n",
    "    \"\"\"\n",
    "    df_sent['specimen_prediction'] = df_sent['sent'].apply(extract_ents)"
   ]
  },
  {
   "cell_type": "code",
   "execution_count": 4,
   "metadata": {
    "vscode": {
     "languageId": "python"
    }
   },
   "outputs": [
    {
     "name": "stdout",
     "output_type": "stream",
     "text": [
      "Looking for SPECIMEN entities in 461 UMMZ papers\n"
     ]
    }
   ],
   "source": [
    "ummz_papers = glob.glob('../../specimen-ner/data/bibliography_ummz_json/*.json')\n",
    "print(f\"Looking for SPECIMEN entities in {len(ummz_papers)} UMMZ papers\")"
   ]
  },
  {
   "cell_type": "markdown",
   "metadata": {},
   "source": [
    "Find all predictions for all papers"
   ]
  },
  {
   "cell_type": "code",
   "execution_count": 31,
   "metadata": {
    "scrolled": true,
    "vscode": {
     "languageId": "python"
    }
   },
   "outputs": [
    {
     "name": "stdout",
     "output_type": "stream",
     "text": [
      "Searching for SPECIMEN entities in paper: Hooper1944\n"
     ]
    },
    {
     "data": {
      "text/html": [
       "<span class=\"tex2jax_ignore\"><div class=\"entities\" style=\"line-height: 2.5; direction: ltr\">\n",
       "<mark class=\"entity\" style=\"background: #ddd; padding: 0.45em 0.6em; margin: 0 0.25em; line-height: 1; border-radius: 0.35em;\">\n",
       "    Number 87338\n",
       "    <span style=\"font-size: 0.8em; font-weight: bold; line-height: 1; border-radius: 0.35em; vertical-align: middle; margin-left: 0.5rem\">SPECIMEN</span>\n",
       "</mark>\n",
       " was collected near Eagle Creek on the Madison Ranch about six miles north northwest of Warrick in the Bearpaw Mountains of northern Montana </div></span>"
      ],
      "text/plain": [
       "<IPython.core.display.HTML object>"
      ]
     },
     "metadata": {},
     "output_type": "display_data"
    },
    {
     "name": "stdout",
     "output_type": "stream",
     "text": [
      "CPU times: user 1.67 s, sys: 971 µs, total: 1.67 s\n",
      "Wall time: 3.34 s\n"
     ]
    }
   ],
   "source": [
    "%%time\n",
    "\n",
    "papers_sample = random.sample(ummz_papers, 1)\n",
    "\n",
    "for file in papers_sample:\n",
    "    ref_id = file.split(\"/\")[-1].split(\"-\")[0]\n",
    "    print(f\"Searching for SPECIMEN entities in paper: {ref_id}\")\n",
    "    body_text_df = json2txt_df(file)\n",
    "    sentence_list = df2sentences(body_text_df)\n",
    "    for sentence in sentence_list:\n",
    "        clean_sent = clean_text2(sentence)\n",
    "        doc = custom_ner_model(clean_sent)\n",
    "        if len(doc.ents) > 0:\n",
    "            displacy.render(doc, style=\"ent\", jupyter=True)"
   ]
  },
  {
   "cell_type": "markdown",
   "metadata": {},
   "source": [
    "Total times mentioned across corpus"
   ]
  },
  {
   "cell_type": "code",
   "execution_count": 32,
   "metadata": {
    "vscode": {
     "languageId": "python"
    }
   },
   "outputs": [
    {
     "name": "stdout",
     "output_type": "stream",
     "text": [
      "CPU times: user 2h 58min 18s, sys: 16.6 s, total: 2h 58min 34s\n",
      "Wall time: 3h 36min 30s\n"
     ]
    },
    {
     "data": {
      "text/plain": [
       " GSP UM 3551                                         15\n",
       " YB 10                                               12\n",
       " EME PV 313                                          11\n",
       " AMNH 267597                                          8\n",
       " UFPE 427                                             8\n",
       "                                                     ..\n",
       " UMMZ 117898 UMMZ 118632 UMMZ 117911 UMMZ 118339      1\n",
       " IUCN 2012a                                           1\n",
       " USNM 172985                                          1\n",
       " lnL 22504 lnL 22490                                  1\n",
       " PWK Y                                                1\n",
       "Name: specimen_prediction, Length: 1196, dtype: int64"
      ]
     },
     "execution_count": 32,
     "metadata": {},
     "output_type": "execute_result"
    }
   ],
   "source": [
    "%%time\n",
    "\n",
    "df_test_pubs = pd.DataFrame()\n",
    "for test_file in ummz_papers:\n",
    "    with open(test_file, 'r') as f:\n",
    "        data = json.loads(f.read())\n",
    "        file_data = pd.json_normalize(data[\"pdf_parse\"][\"body_text\"])\n",
    "        file_data[\"paper_id\"] = data[\"title\"]\n",
    "    df_test_pubs = pd.concat([df_test_pubs, file_data])\n",
    "\n",
    "ummz_sentences = []\n",
    "\n",
    "for row in df_test_pubs.itertuples():\n",
    "    for sent in seg.segment(row[1]):\n",
    "        ummz_sentences.append((row[7], row[5], row[7], sent))\n",
    "        \n",
    "df_sent = pd.DataFrame(ummz_sentences, columns=['Id', 'section_title', 'paper_title', 'sent'])\n",
    "df_sent['sent'] = df_sent['sent'].astype(str)\n",
    "df_sent\n",
    "    \n",
    "predict_ents(df_sent)\n",
    "\n",
    "df_sent['specimen_prediction'].value_counts().sort_values(ascending=False)"
   ]
  },
  {
   "cell_type": "code",
   "execution_count": 39,
   "metadata": {
    "vscode": {
     "languageId": "python"
    }
   },
   "outputs": [
    {
     "data": {
      "image/png": "[encoded data removed]",
      "text/plain": [
       "<Figure size 1440x720 with 1 Axes>"
      ]
     },
     "metadata": {
      "needs_background": "light"
     },
     "output_type": "display_data"
    }
   ],
   "source": [
    "import matplotlib.pyplot as plt\n",
    "\n",
    "fig = df_sent['specimen_prediction'].value_counts().nlargest(50).sort_values().plot(kind='barh',figsize=(20,10))\n",
    "plt.savefig('../../specimen-ner/results/ummz_specimen_count.png', dpi=500)"
   ]
  },
  {
   "cell_type": "code",
   "execution_count": 35,
   "metadata": {
    "vscode": {
     "languageId": "python"
    }
   },
   "outputs": [
    {
     "data": {
      "text/plain": [
       "1197"
      ]
     },
     "execution_count": 35,
     "metadata": {},
     "output_type": "execute_result"
    }
   ],
   "source": [
    "ummz_unique_codes = set(df_sent['specimen_prediction'].unique())\n",
    "len(ummz_unique_codes)"
   ]
  },
  {
   "cell_type": "code",
   "execution_count": 37,
   "metadata": {
    "vscode": {
     "languageId": "python"
    }
   },
   "outputs": [],
   "source": [
    "predictions_ummz = df_sent[df_sent.specimen_prediction.notna()]\n",
    "predictions_ummz = predictions_ummz[predictions_ummz.Id.notna()]\n",
    "predictions_ummz['paper'] = predictions_ummz['Id'].astype(\"category\").cat.codes\n",
    "\n",
    "predictions_ummz['Id'] = predictions_ummz[['Id','paper','specimen_prediction']].groupby(['specimen_prediction','paper'])['Id'].transform(lambda x: ','.join(x))\n",
    "predictions_ummz.to_csv('../../specimen-ner/results/predictions_ummz.csv',index=False)\n",
    "\n",
    "predictions_ummz_dedup = predictions_ummz[['specimen_prediction','Id','paper']].drop_duplicates()\n",
    "predictions_ummz_dedup.to_csv('../../specimen-ner/results/specimens_per_paper_ummz.csv')"
   ]
  },
  {
   "cell_type": "code",
   "execution_count": 38,
   "metadata": {
    "vscode": {
     "languageId": "python"
    }
   },
   "outputs": [
    {
     "data": {
      "text/html": [
       "<div>\n",
       "<style scoped>\n",
       "    .dataframe tbody tr th:only-of-type {\n",
       "        vertical-align: middle;\n",
       "    }\n",
       "\n",
       "    .dataframe tbody tr th {\n",
       "        vertical-align: top;\n",
       "    }\n",
       "\n",
       "    .dataframe thead th {\n",
       "        text-align: right;\n",
       "    }\n",
       "</style>\n",
       "<table border=\"1\" class=\"dataframe\">\n",
       "  <thead>\n",
       "    <tr style=\"text-align: right;\">\n",
       "      <th>paper</th>\n",
       "      <th>0</th>\n",
       "      <th>1</th>\n",
       "      <th>2</th>\n",
       "      <th>3</th>\n",
       "      <th>4</th>\n",
       "      <th>5</th>\n",
       "      <th>6</th>\n",
       "      <th>7</th>\n",
       "      <th>8</th>\n",
       "      <th>9</th>\n",
       "      <th>...</th>\n",
       "      <th>181</th>\n",
       "      <th>182</th>\n",
       "      <th>183</th>\n",
       "      <th>184</th>\n",
       "      <th>185</th>\n",
       "      <th>186</th>\n",
       "      <th>187</th>\n",
       "      <th>188</th>\n",
       "      <th>189</th>\n",
       "      <th>All</th>\n",
       "    </tr>\n",
       "    <tr>\n",
       "      <th>specimen_prediction</th>\n",
       "      <th></th>\n",
       "      <th></th>\n",
       "      <th></th>\n",
       "      <th></th>\n",
       "      <th></th>\n",
       "      <th></th>\n",
       "      <th></th>\n",
       "      <th></th>\n",
       "      <th></th>\n",
       "      <th></th>\n",
       "      <th></th>\n",
       "      <th></th>\n",
       "      <th></th>\n",
       "      <th></th>\n",
       "      <th></th>\n",
       "      <th></th>\n",
       "      <th></th>\n",
       "      <th></th>\n",
       "      <th></th>\n",
       "      <th></th>\n",
       "      <th></th>\n",
       "    </tr>\n",
       "  </thead>\n",
       "  <tbody>\n",
       "    <tr>\n",
       "      <th>2N 28 MNHN 1972 MNHN 639 MNHN 263 MNHN 266 MNHN 36 MNHN 1983 MNHN 376</th>\n",
       "      <td>1</td>\n",
       "      <td>0</td>\n",
       "      <td>0</td>\n",
       "      <td>0</td>\n",
       "      <td>0</td>\n",
       "      <td>0</td>\n",
       "      <td>0</td>\n",
       "      <td>0</td>\n",
       "      <td>0</td>\n",
       "      <td>0</td>\n",
       "      <td>...</td>\n",
       "      <td>0</td>\n",
       "      <td>0</td>\n",
       "      <td>0</td>\n",
       "      <td>0</td>\n",
       "      <td>0</td>\n",
       "      <td>0</td>\n",
       "      <td>0</td>\n",
       "      <td>0</td>\n",
       "      <td>0</td>\n",
       "      <td>2</td>\n",
       "    </tr>\n",
       "    <tr>\n",
       "      <th>A AY243413</th>\n",
       "      <td>0</td>\n",
       "      <td>0</td>\n",
       "      <td>0</td>\n",
       "      <td>0</td>\n",
       "      <td>0</td>\n",
       "      <td>0</td>\n",
       "      <td>0</td>\n",
       "      <td>0</td>\n",
       "      <td>0</td>\n",
       "      <td>0</td>\n",
       "      <td>...</td>\n",
       "      <td>0</td>\n",
       "      <td>0</td>\n",
       "      <td>0</td>\n",
       "      <td>0</td>\n",
       "      <td>0</td>\n",
       "      <td>0</td>\n",
       "      <td>0</td>\n",
       "      <td>0</td>\n",
       "      <td>0</td>\n",
       "      <td>1</td>\n",
       "    </tr>\n",
       "    <tr>\n",
       "      <th>A M AK11525</th>\n",
       "      <td>0</td>\n",
       "      <td>0</td>\n",
       "      <td>0</td>\n",
       "      <td>0</td>\n",
       "      <td>0</td>\n",
       "      <td>0</td>\n",
       "      <td>0</td>\n",
       "      <td>0</td>\n",
       "      <td>0</td>\n",
       "      <td>0</td>\n",
       "      <td>...</td>\n",
       "      <td>0</td>\n",
       "      <td>0</td>\n",
       "      <td>0</td>\n",
       "      <td>0</td>\n",
       "      <td>0</td>\n",
       "      <td>0</td>\n",
       "      <td>0</td>\n",
       "      <td>0</td>\n",
       "      <td>0</td>\n",
       "      <td>1</td>\n",
       "    </tr>\n",
       "    <tr>\n",
       "      <th>AA AT AA AT AA AT AA AT ZISP AA AT AA AT AA AT 71 AA AT AA AT 103</th>\n",
       "      <td>0</td>\n",
       "      <td>0</td>\n",
       "      <td>0</td>\n",
       "      <td>0</td>\n",
       "      <td>0</td>\n",
       "      <td>0</td>\n",
       "      <td>0</td>\n",
       "      <td>0</td>\n",
       "      <td>0</td>\n",
       "      <td>0</td>\n",
       "      <td>...</td>\n",
       "      <td>0</td>\n",
       "      <td>0</td>\n",
       "      <td>0</td>\n",
       "      <td>0</td>\n",
       "      <td>0</td>\n",
       "      <td>0</td>\n",
       "      <td>0</td>\n",
       "      <td>0</td>\n",
       "      <td>0</td>\n",
       "      <td>1</td>\n",
       "    </tr>\n",
       "    <tr>\n",
       "      <th>AAAS 1991</th>\n",
       "      <td>0</td>\n",
       "      <td>0</td>\n",
       "      <td>0</td>\n",
       "      <td>0</td>\n",
       "      <td>0</td>\n",
       "      <td>0</td>\n",
       "      <td>0</td>\n",
       "      <td>0</td>\n",
       "      <td>0</td>\n",
       "      <td>0</td>\n",
       "      <td>...</td>\n",
       "      <td>0</td>\n",
       "      <td>0</td>\n",
       "      <td>0</td>\n",
       "      <td>0</td>\n",
       "      <td>0</td>\n",
       "      <td>0</td>\n",
       "      <td>0</td>\n",
       "      <td>0</td>\n",
       "      <td>0</td>\n",
       "      <td>1</td>\n",
       "    </tr>\n",
       "    <tr>\n",
       "      <th>...</th>\n",
       "      <td>...</td>\n",
       "      <td>...</td>\n",
       "      <td>...</td>\n",
       "      <td>...</td>\n",
       "      <td>...</td>\n",
       "      <td>...</td>\n",
       "      <td>...</td>\n",
       "      <td>...</td>\n",
       "      <td>...</td>\n",
       "      <td>...</td>\n",
       "      <td>...</td>\n",
       "      <td>...</td>\n",
       "      <td>...</td>\n",
       "      <td>...</td>\n",
       "      <td>...</td>\n",
       "      <td>...</td>\n",
       "      <td>...</td>\n",
       "      <td>...</td>\n",
       "      <td>...</td>\n",
       "      <td>...</td>\n",
       "      <td>...</td>\n",
       "    </tr>\n",
       "    <tr>\n",
       "      <th>peM 77 05397 DEB 77 06706</th>\n",
       "      <td>1</td>\n",
       "      <td>0</td>\n",
       "      <td>0</td>\n",
       "      <td>0</td>\n",
       "      <td>0</td>\n",
       "      <td>0</td>\n",
       "      <td>0</td>\n",
       "      <td>0</td>\n",
       "      <td>0</td>\n",
       "      <td>0</td>\n",
       "      <td>...</td>\n",
       "      <td>0</td>\n",
       "      <td>0</td>\n",
       "      <td>0</td>\n",
       "      <td>0</td>\n",
       "      <td>0</td>\n",
       "      <td>0</td>\n",
       "      <td>0</td>\n",
       "      <td>0</td>\n",
       "      <td>0</td>\n",
       "      <td>1</td>\n",
       "    </tr>\n",
       "    <tr>\n",
       "      <th>specimens AMNH 95206 USNM 194785</th>\n",
       "      <td>0</td>\n",
       "      <td>0</td>\n",
       "      <td>0</td>\n",
       "      <td>0</td>\n",
       "      <td>0</td>\n",
       "      <td>0</td>\n",
       "      <td>0</td>\n",
       "      <td>0</td>\n",
       "      <td>0</td>\n",
       "      <td>0</td>\n",
       "      <td>...</td>\n",
       "      <td>0</td>\n",
       "      <td>0</td>\n",
       "      <td>0</td>\n",
       "      <td>0</td>\n",
       "      <td>0</td>\n",
       "      <td>0</td>\n",
       "      <td>0</td>\n",
       "      <td>0</td>\n",
       "      <td>0</td>\n",
       "      <td>1</td>\n",
       "    </tr>\n",
       "    <tr>\n",
       "      <th>vWF</th>\n",
       "      <td>0</td>\n",
       "      <td>0</td>\n",
       "      <td>0</td>\n",
       "      <td>0</td>\n",
       "      <td>0</td>\n",
       "      <td>0</td>\n",
       "      <td>0</td>\n",
       "      <td>0</td>\n",
       "      <td>0</td>\n",
       "      <td>0</td>\n",
       "      <td>...</td>\n",
       "      <td>0</td>\n",
       "      <td>0</td>\n",
       "      <td>0</td>\n",
       "      <td>0</td>\n",
       "      <td>0</td>\n",
       "      <td>0</td>\n",
       "      <td>0</td>\n",
       "      <td>0</td>\n",
       "      <td>0</td>\n",
       "      <td>1</td>\n",
       "    </tr>\n",
       "    <tr>\n",
       "      <th>zinki Bohmann</th>\n",
       "      <td>0</td>\n",
       "      <td>0</td>\n",
       "      <td>0</td>\n",
       "      <td>0</td>\n",
       "      <td>0</td>\n",
       "      <td>0</td>\n",
       "      <td>0</td>\n",
       "      <td>0</td>\n",
       "      <td>0</td>\n",
       "      <td>0</td>\n",
       "      <td>...</td>\n",
       "      <td>0</td>\n",
       "      <td>0</td>\n",
       "      <td>0</td>\n",
       "      <td>0</td>\n",
       "      <td>0</td>\n",
       "      <td>0</td>\n",
       "      <td>0</td>\n",
       "      <td>0</td>\n",
       "      <td>0</td>\n",
       "      <td>1</td>\n",
       "    </tr>\n",
       "    <tr>\n",
       "      <th>All</th>\n",
       "      <td>224</td>\n",
       "      <td>1</td>\n",
       "      <td>13</td>\n",
       "      <td>6</td>\n",
       "      <td>6</td>\n",
       "      <td>2</td>\n",
       "      <td>1</td>\n",
       "      <td>2</td>\n",
       "      <td>1</td>\n",
       "      <td>3</td>\n",
       "      <td>...</td>\n",
       "      <td>4</td>\n",
       "      <td>3</td>\n",
       "      <td>1</td>\n",
       "      <td>3</td>\n",
       "      <td>4</td>\n",
       "      <td>1</td>\n",
       "      <td>10</td>\n",
       "      <td>2</td>\n",
       "      <td>4</td>\n",
       "      <td>1433</td>\n",
       "    </tr>\n",
       "  </tbody>\n",
       "</table>\n",
       "<p>1197 rows × 191 columns</p>\n",
       "</div>"
      ],
      "text/plain": [
       "paper                                                 0  1   2  3  4  5  6  7  \\\n",
       "specimen_prediction                                                             \n",
       " 2N 28 MNHN 1972 MNHN 639 MNHN 263 MNHN 266 MNH...    1  0   0  0  0  0  0  0   \n",
       " A AY243413                                           0  0   0  0  0  0  0  0   \n",
       " A M AK11525                                          0  0   0  0  0  0  0  0   \n",
       " AA AT AA AT AA AT AA AT ZISP AA AT AA AT AA AT...    0  0   0  0  0  0  0  0   \n",
       " AAAS 1991                                            0  0   0  0  0  0  0  0   \n",
       "...                                                 ... ..  .. .. .. .. .. ..   \n",
       " peM 77 05397 DEB 77 06706                            1  0   0  0  0  0  0  0   \n",
       " specimens AMNH 95206 USNM 194785                     0  0   0  0  0  0  0  0   \n",
       " vWF                                                  0  0   0  0  0  0  0  0   \n",
       " zinki Bohmann                                        0  0   0  0  0  0  0  0   \n",
       "All                                                 224  1  13  6  6  2  1  2   \n",
       "\n",
       "paper                                               8  9  ...  181  182  183  \\\n",
       "specimen_prediction                                       ...                  \n",
       " 2N 28 MNHN 1972 MNHN 639 MNHN 263 MNHN 266 MNH...  0  0  ...    0    0    0   \n",
       " A AY243413                                         0  0  ...    0    0    0   \n",
       " A M AK11525                                        0  0  ...    0    0    0   \n",
       " AA AT AA AT AA AT AA AT ZISP AA AT AA AT AA AT...  0  0  ...    0    0    0   \n",
       " AAAS 1991                                          0  0  ...    0    0    0   \n",
       "...                                                .. ..  ...  ...  ...  ...   \n",
       " peM 77 05397 DEB 77 06706                          0  0  ...    0    0    0   \n",
       " specimens AMNH 95206 USNM 194785                   0  0  ...    0    0    0   \n",
       " vWF                                                0  0  ...    0    0    0   \n",
       " zinki Bohmann                                      0  0  ...    0    0    0   \n",
       "All                                                 1  3  ...    4    3    1   \n",
       "\n",
       "paper                                               184  185  186  187  188  \\\n",
       "specimen_prediction                                                           \n",
       " 2N 28 MNHN 1972 MNHN 639 MNHN 263 MNHN 266 MNH...    0    0    0    0    0   \n",
       " A AY243413                                           0    0    0    0    0   \n",
       " A M AK11525                                          0    0    0    0    0   \n",
       " AA AT AA AT AA AT AA AT ZISP AA AT AA AT AA AT...    0    0    0    0    0   \n",
       " AAAS 1991                                            0    0    0    0    0   \n",
       "...                                                 ...  ...  ...  ...  ...   \n",
       " peM 77 05397 DEB 77 06706                            0    0    0    0    0   \n",
       " specimens AMNH 95206 USNM 194785                     0    0    0    0    0   \n",
       " vWF                                                  0    0    0    0    0   \n",
       " zinki Bohmann                                        0    0    0    0    0   \n",
       "All                                                   3    4    1   10    2   \n",
       "\n",
       "paper                                               189   All  \n",
       "specimen_prediction                                            \n",
       " 2N 28 MNHN 1972 MNHN 639 MNHN 263 MNHN 266 MNH...    0     2  \n",
       " A AY243413                                           0     1  \n",
       " A M AK11525                                          0     1  \n",
       " AA AT AA AT AA AT AA AT ZISP AA AT AA AT AA AT...    0     1  \n",
       " AAAS 1991                                            0     1  \n",
       "...                                                 ...   ...  \n",
       " peM 77 05397 DEB 77 06706                            0     1  \n",
       " specimens AMNH 95206 USNM 194785                     0     1  \n",
       " vWF                                                  0     1  \n",
       " zinki Bohmann                                        0     1  \n",
       "All                                                   4  1433  \n",
       "\n",
       "[1197 rows x 191 columns]"
      ]
     },
     "execution_count": 38,
     "metadata": {},
     "output_type": "execute_result"
    }
   ],
   "source": [
    "cross_df = pd.crosstab(predictions_ummz_dedup.specimen_prediction, predictions_ummz_dedup.paper, margins=True, dropna=False)\n",
    "cross_df.to_csv('../../specimen-ner/results/frequency_ummz.csv')\n",
    "cross_df"
   ]
  },
  {
   "cell_type": "code",
   "execution_count": null,
   "metadata": {
    "vscode": {
     "languageId": "python"
    }
   },
   "outputs": [],
   "source": []
  }
 ],
 "metadata": {
  "kernelspec": {
   "display_name": "Python 3",
   "language": "python",
   "name": "python3"
  }
 },
 "nbformat": 4,
 "nbformat_minor": 4
}
